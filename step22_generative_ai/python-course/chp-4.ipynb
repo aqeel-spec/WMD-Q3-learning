{
 "cells": [
  {
   "cell_type": "code",
   "execution_count": 1,
   "metadata": {},
   "outputs": [
    {
     "name": "stdout",
     "output_type": "stream",
     "text": [
      "alice\n",
      "david\n",
      "carolina\n"
     ]
    }
   ],
   "source": [
    "magicians = ['alice','david','carolina']\n",
    "\n",
    "for magician in magicians : \n",
    "    print(magician)"
   ]
  },
  {
   "cell_type": "code",
   "execution_count": 2,
   "metadata": {},
   "outputs": [
    {
     "name": "stdout",
     "output_type": "stream",
     "text": [
      "Alice, that was a great trick!\n",
      "David, that was a great trick!\n",
      "Carolina, that was a great trick!\n"
     ]
    }
   ],
   "source": [
    "for magician in magicians : \n",
    "    print(f\"{magician.title()}, that was a great trick!\")"
   ]
  },
  {
   "cell_type": "code",
   "execution_count": 3,
   "metadata": {},
   "outputs": [
    {
     "name": "stdout",
     "output_type": "stream",
     "text": [
      "Alice, that was a great trick!\n",
      "I cannot wait to see your next trick , Alice.\n",
      "\n",
      "David, that was a great trick!\n",
      "I cannot wait to see your next trick , David.\n",
      "\n",
      "Carolina, that was a great trick!\n",
      "I cannot wait to see your next trick , Carolina.\n",
      "\n"
     ]
    }
   ],
   "source": [
    "for magician in magicians : \n",
    "    print(f\"{magician.title()}, that was a great trick!\")\n",
    "    print(f\"I cannot wait to see your next trick , {magician.title()}.\\n\")"
   ]
  },
  {
   "cell_type": "code",
   "execution_count": 4,
   "metadata": {},
   "outputs": [
    {
     "name": "stdout",
     "output_type": "stream",
     "text": [
      "Alice, that was a great trick!\n",
      "I cannot wait to see your next trick , Alice.\n",
      "\n",
      "David, that was a great trick!\n",
      "I cannot wait to see your next trick , David.\n",
      "\n",
      "Carolina, that was a great trick!\n",
      "I cannot wait to see your next trick , Carolina.\n",
      "\n",
      "Thank you, everyone. That was a great magic show!\n"
     ]
    }
   ],
   "source": [
    "for magician in magicians : \n",
    "    print(f\"{magician.title()}, that was a great trick!\")\n",
    "    print(f\"I cannot wait to see your next trick , {magician.title()}.\\n\")\n",
    "print(\"Thank you, everyone. That was a great magic show!\")"
   ]
  },
  {
   "cell_type": "code",
   "execution_count": 5,
   "metadata": {},
   "outputs": [
    {
     "ename": "IndentationError",
     "evalue": "expected an indented block after 'for' statement on line 1 (1155277042.py, line 2)",
     "output_type": "error",
     "traceback": [
      "\u001b[0;36m  Cell \u001b[0;32mIn[5], line 2\u001b[0;36m\u001b[0m\n\u001b[0;31m    print(magician)\u001b[0m\n\u001b[0m    ^\u001b[0m\n\u001b[0;31mIndentationError\u001b[0m\u001b[0;31m:\u001b[0m expected an indented block after 'for' statement on line 1\n"
     ]
    }
   ],
   "source": [
    "# Forgetting to Indent\n",
    "for magician in magicians : \n",
    "print(magician)"
   ]
  },
  {
   "cell_type": "code",
   "execution_count": 6,
   "metadata": {},
   "outputs": [
    {
     "name": "stdout",
     "output_type": "stream",
     "text": [
      "Alice, that was a great trick!\n",
      "David, that was a great trick!\n",
      "Carolina, that was a great trick!\n",
      "I can't wait to see your next trick, Carolina.\n",
      "\n"
     ]
    }
   ],
   "source": [
    "magicians = ['alice', 'david', 'carolina']\n",
    "for magician in magicians:\n",
    " print(f\"{magician.title()}, that was a great trick!\")\n",
    "print(f\"I can't wait to see your next trick, {magician.title()}.\\n\")"
   ]
  },
  {
   "cell_type": "code",
   "execution_count": 7,
   "metadata": {},
   "outputs": [
    {
     "name": "stdout",
     "output_type": "stream",
     "text": [
      "Alice, that was a great trick!\n",
      "I can't wait to see your next trick, Alice.\n",
      "\n",
      "Thank you everyone, that was a great show!\n",
      "David, that was a great trick!\n",
      "I can't wait to see your next trick, David.\n",
      "\n",
      "Thank you everyone, that was a great show!\n",
      "Carolina, that was a great trick!\n",
      "I can't wait to see your next trick, Carolina.\n",
      "\n",
      "Thank you everyone, that was a great show!\n"
     ]
    }
   ],
   "source": [
    "magicians = ['alice', 'david', 'carolina']\n",
    "for magician in magicians:\n",
    " print(f\"{magician.title()}, that was a great trick!\")\n",
    " print(f\"I can't wait to see your next trick, {magician.title()}.\\n\")\n",
    " print(\"Thank you everyone, that was a great show!\")"
   ]
  },
  {
   "cell_type": "markdown",
   "metadata": {},
   "source": [
    "<p style=\"text-align: center; color : white \">\n",
    "    Exercises <strong>Try it yourself</strong>\n",
    "\n",
    "</p>"
   ]
  },
  {
   "cell_type": "markdown",
   "metadata": {},
   "source": [
    "<b>4-1. Pizzas:</b> Think of at least three kinds of your favorite pizza. Store these\n",
    "pizza names in a list, and then use a for loop to print the name of each pizza.\n",
    "* Modify your for loop to print a sentence using the name of the pizza,\n",
    "instead of printing just the name of the pizza. For each pizza, you should\n",
    "have one line of output containing a simple statement like I like pep-\n",
    "peroni pizza.\n",
    "* Add a line at the end of your program, outside the for loop, that states\n",
    "how much you like pizza. The output should consist of three or more lines\n",
    "about the kinds of pizza you like and then an additional sentence, such as\n",
    "I really love pizza!"
   ]
  },
  {
   "cell_type": "code",
   "execution_count": 12,
   "metadata": {},
   "outputs": [
    {
     "name": "stdout",
     "output_type": "stream",
     "text": [
      "My favorite pizzas:\n",
      "Margherita\n",
      "Pepperoni\n",
      "Hawaiian\n",
      "\n",
      "Some simple statements about my favorite pizzas:\n",
      "I like Margherita pizza.\n",
      "I like Pepperoni pizza.\n",
      "I like Hawaiian pizza.\n",
      "\n",
      "I really love pizza!\n"
     ]
    }
   ],
   "source": [
    "# Exercise 4-1: Pizzas\n",
    "favorite_pizzas = [\"Margherita\", \"Pepperoni\", \"Hawaiian\"]\n",
    "\n",
    "# Printing the names of the pizzas\n",
    "print(\"My favorite pizzas:\")\n",
    "for pizza in favorite_pizzas:\n",
    "    print(pizza)\n",
    "\n",
    "# Printing a sentence for each pizza\n",
    "print(\"\\nSome simple statements about my favorite pizzas:\")\n",
    "for pizza in favorite_pizzas:\n",
    "    print(\"I like \" + pizza + \" pizza.\")\n",
    "\n",
    "# Adding a sentence about how much I like pizza\n",
    "print(\"\\nI really love pizza!\")\n"
   ]
  },
  {
   "cell_type": "code",
   "execution_count": 13,
   "metadata": {},
   "outputs": [
    {
     "name": "stdout",
     "output_type": "stream",
     "text": [
      "Common characteristic: These animals can make great pets.\n",
      "Some animals with this common characteristic:\n",
      "Dog\n",
      "Cat\n",
      "Rabbit\n",
      "\n",
      "A statement about each animal:\n",
      "A dog would make a great pet.\n",
      "A cat would be an independent and friendly companion.\n",
      "A rabbit would be a cute and low-maintenance pet.\n",
      "\n",
      "Any of these animals would make a great pet.\n"
     ]
    }
   ],
   "source": [
    "# Exercise 4-2: Animals\n",
    "animals = [\"Dog\", \"Cat\", \"Rabbit\"]\n",
    "\n",
    "# Printing the names of the animals\n",
    "print(\"Common characteristic: These animals can make great pets.\")\n",
    "print(\"Some animals with this common characteristic:\")\n",
    "for animal in animals:\n",
    "    print(animal)\n",
    "\n",
    "# Printing a statement about each animal\n",
    "print(\"\\nA statement about each animal:\")\n",
    "for animal in animals:\n",
    "    if animal == \"Dog\":\n",
    "        print(f\"A {animal.lower()} would make a great pet.\")\n",
    "    elif animal == \"Cat\":\n",
    "        print(f\"A {animal.lower()} would be an independent and friendly companion.\")\n",
    "    elif animal == \"Rabbit\":\n",
    "        print(f\"A {animal.lower()} would be a cute and low-maintenance pet.\")\n",
    "\n",
    "# Adding a statement about the common characteristic\n",
    "print(\"\\nAny of these animals would make a great pet.\")\n"
   ]
  },
  {
   "cell_type": "code",
   "execution_count": 15,
   "metadata": {},
   "outputs": [
    {
     "name": "stdout",
     "output_type": "stream",
     "text": [
      "3\n",
      "4\n"
     ]
    }
   ],
   "source": [
    "for value in range(3, 5):\n",
    " print(value)"
   ]
  },
  {
   "cell_type": "code",
   "execution_count": 16,
   "metadata": {},
   "outputs": [
    {
     "name": "stdout",
     "output_type": "stream",
     "text": [
      "[1, 2, 3, 4, 5]\n"
     ]
    }
   ],
   "source": [
    "li = list(range(1,6))\n",
    "\n",
    "print(li)"
   ]
  },
  {
   "cell_type": "code",
   "execution_count": 20,
   "metadata": {},
   "outputs": [
    {
     "name": "stdout",
     "output_type": "stream",
     "text": [
      "[2, 4, 6, 8, 10]\n"
     ]
    }
   ],
   "source": [
    "li = list(range(2,11,2))\n",
    "\n",
    "print(li)"
   ]
  },
  {
   "cell_type": "code",
   "execution_count": 21,
   "metadata": {},
   "outputs": [
    {
     "name": "stdout",
     "output_type": "stream",
     "text": [
      "[1, 2, 3, 4]\n",
      "1\n",
      "4\n",
      "9\n",
      "16\n"
     ]
    }
   ],
   "source": [
    "numbers = list(range(1,5))\n",
    "print(numbers)\n",
    "\n",
    "for num in numbers : \n",
    "    sq = num ** 2\n",
    "    print(sq)\n",
    "    "
   ]
  },
  {
   "cell_type": "code",
   "execution_count": 23,
   "metadata": {},
   "outputs": [
    {
     "name": "stdout",
     "output_type": "stream",
     "text": [
      "[1, 4, 9, 16, 25, 36, 49, 64, 81, 100]\n"
     ]
    }
   ],
   "source": [
    "squares = []\n",
    "\n",
    "for num in range(1,11) : \n",
    "    sq = num ** 2\n",
    "    squares.append(sq)\n",
    "\n",
    "print(squares)\n",
    "    "
   ]
  },
  {
   "cell_type": "code",
   "execution_count": 27,
   "metadata": {},
   "outputs": [
    {
     "name": "stdout",
     "output_type": "stream",
     "text": [
      "min number is list :  0\n",
      "max number is list :  9\n",
      "Sum number is list :  45\n",
      "Length number is list :  10\n",
      "[1, 2, 3, 4, 5, 6, 7, 8, 9, 0]\n"
     ]
    }
   ],
   "source": [
    "digits = [1, 2, 3, 4, 5, 6, 7, 8, 9, 0]\n",
    "\n",
    "print(\"min number is list : \",min(digits))\n",
    "print(\"max number is list : \",max(digits))\n",
    "print(\"Sum number is list : \",sum(digits))\n",
    "print(\"Length number is list : \",len(digits))\n",
    "print(digits)"
   ]
  },
  {
   "cell_type": "code",
   "execution_count": 28,
   "metadata": {},
   "outputs": [
    {
     "name": "stdout",
     "output_type": "stream",
     "text": [
      "[1, 4, 9, 16, 25, 36, 49, 64, 81, 100]\n"
     ]
    }
   ],
   "source": [
    "squares = [value**2 for value in range(1, 11)]\n",
    "print(squares)"
   ]
  },
  {
   "cell_type": "code",
   "execution_count": 29,
   "metadata": {},
   "outputs": [
    {
     "name": "stdout",
     "output_type": "stream",
     "text": [
      "['charles', 'martina', 'michael']\n"
     ]
    }
   ],
   "source": [
    "players = ['charles', 'martina', 'michael', 'florence', 'eli']\n",
    "print(players[0:3])"
   ]
  },
  {
   "cell_type": "code",
   "execution_count": 30,
   "metadata": {},
   "outputs": [
    {
     "name": "stdout",
     "output_type": "stream",
     "text": [
      "['martina', 'michael', 'florence']\n"
     ]
    }
   ],
   "source": [
    "players = ['charles', 'martina', 'michael', 'florence', 'eli']\n",
    "print(players[1:4])"
   ]
  },
  {
   "cell_type": "code",
   "execution_count": 31,
   "metadata": {},
   "outputs": [
    {
     "name": "stdout",
     "output_type": "stream",
     "text": [
      "['charles', 'martina', 'michael', 'florence']\n"
     ]
    }
   ],
   "source": [
    "players = ['charles', 'martina', 'michael', 'florence', 'eli']\n",
    "print(players[:4])"
   ]
  },
  {
   "cell_type": "code",
   "execution_count": 32,
   "metadata": {},
   "outputs": [
    {
     "name": "stdout",
     "output_type": "stream",
     "text": [
      "['michael', 'florence', 'eli']\n"
     ]
    }
   ],
   "source": [
    "players = ['charles', 'martina', 'michael', 'florence', 'eli']\n",
    "print(players[2:])"
   ]
  },
  {
   "cell_type": "code",
   "execution_count": 33,
   "metadata": {},
   "outputs": [
    {
     "name": "stdout",
     "output_type": "stream",
     "text": [
      "My favorite foods are:\n",
      "['pizza', 'falafel', 'carrot cake']\n",
      "\n",
      "My friend's favorite foods are:\n",
      "['pizza', 'falafel', 'carrot cake']\n"
     ]
    }
   ],
   "source": [
    "my_foods = ['pizza', 'falafel', 'carrot cake']\n",
    "friend_foods = my_foods[:]\n",
    "\n",
    "print(\"My favorite foods are:\")\n",
    "print(my_foods)\n",
    "\n",
    "print(\"\\nMy friend's favorite foods are:\")\n",
    "print(friend_foods)"
   ]
  },
  {
   "cell_type": "markdown",
   "metadata": {},
   "source": [
    "### Tuples"
   ]
  },
  {
   "cell_type": "code",
   "execution_count": 35,
   "metadata": {},
   "outputs": [
    {
     "name": "stdout",
     "output_type": "stream",
     "text": [
      "<class 'tuple'>\n",
      "200\n",
      "50\n"
     ]
    }
   ],
   "source": [
    "dimensions : tuple[int , int] = (200, 50)\n",
    "\n",
    "print(type(dimensions))\n",
    "\n",
    "print(dimensions[0])\n",
    "print(dimensions[1])"
   ]
  },
  {
   "cell_type": "code",
   "execution_count": 38,
   "metadata": {},
   "outputs": [
    {
     "ename": "TypeError",
     "evalue": "'tuple' object does not support item assignment",
     "output_type": "error",
     "traceback": [
      "\u001b[0;31m---------------------------------------------------------------------------\u001b[0m",
      "\u001b[0;31mTypeError\u001b[0m                                 Traceback (most recent call last)",
      "\u001b[1;32m/home/shahzad/Documents/GitHub/WMD-Q3-learning/step22_generative_ai/python-course/chp-4.ipynb Cell 26\u001b[0m line \u001b[0;36m1\n\u001b[0;32m----> <a href='vscode-notebook-cell:/home/shahzad/Documents/GitHub/WMD-Q3-learning/step22_generative_ai/python-course/chp-4.ipynb#X36sZmlsZQ%3D%3D?line=0'>1</a>\u001b[0m dimensions[\u001b[39m0\u001b[39;49m] \u001b[39m=\u001b[39m \u001b[39m150\u001b[39m\n\u001b[1;32m      <a href='vscode-notebook-cell:/home/shahzad/Documents/GitHub/WMD-Q3-learning/step22_generative_ai/python-course/chp-4.ipynb#X36sZmlsZQ%3D%3D?line=1'>2</a>\u001b[0m \u001b[39mprint\u001b[39m(dimensions)\n",
      "\u001b[0;31mTypeError\u001b[0m: 'tuple' object does not support item assignment"
     ]
    }
   ],
   "source": [
    "dimensions[0] = 150\n",
    "print(dimensions)"
   ]
  },
  {
   "cell_type": "markdown",
   "metadata": {},
   "source": [
    "#### Writing Over a Tuple"
   ]
  },
  {
   "cell_type": "code",
   "execution_count": 39,
   "metadata": {},
   "outputs": [
    {
     "name": "stdout",
     "output_type": "stream",
     "text": [
      "Original dimensions:\n",
      "200\n",
      "50\n",
      "\n",
      "Modified dimensions:\n",
      "400\n",
      "100\n"
     ]
    }
   ],
   "source": [
    "dimensions = (200, 50)\n",
    "print(\"Original dimensions:\")\n",
    "for dimension in dimensions:\n",
    " print(dimension)\n",
    "\n",
    "dimensions = (400, 100)\n",
    "print(\"\\nModified dimensions:\")\n",
    "for dimension in dimensions:\n",
    " print(dimension)"
   ]
  }
 ],
 "metadata": {
  "kernelspec": {
   "display_name": "py12",
   "language": "python",
   "name": "python3"
  },
  "language_info": {
   "codemirror_mode": {
    "name": "ipython",
    "version": 3
   },
   "file_extension": ".py",
   "mimetype": "text/x-python",
   "name": "python",
   "nbconvert_exporter": "python",
   "pygments_lexer": "ipython3",
   "version": "3.12.0"
  }
 },
 "nbformat": 4,
 "nbformat_minor": 2
}
