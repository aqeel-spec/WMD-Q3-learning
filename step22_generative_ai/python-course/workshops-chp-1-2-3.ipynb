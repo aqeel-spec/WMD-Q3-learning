{
 "cells": [
  {
   "cell_type": "code",
   "execution_count": 40,
   "metadata": {},
   "outputs": [
    {
     "name": "stdout",
     "output_type": "stream",
     "text": [
      "Hello World\n"
     ]
    }
   ],
   "source": [
    "print(\"Hello World\")"
   ]
  },
  {
   "cell_type": "code",
   "execution_count": 41,
   "metadata": {},
   "outputs": [
    {
     "name": "stdout",
     "output_type": "stream",
     "text": [
      "Aqeel Shahzad\n",
      "7\n"
     ]
    }
   ],
   "source": [
    "a = \"Aqeel Shahzad\"\n",
    "\n",
    "print(a)\n",
    "\n",
    "a = 7\n",
    "\n",
    "print(a)"
   ]
  },
  {
   "cell_type": "code",
   "execution_count": 42,
   "metadata": {},
   "outputs": [
    {
     "name": "stdout",
     "output_type": "stream",
     "text": [
      "23\n"
     ]
    }
   ],
   "source": [
    "name : str = 23\n",
    "\n",
    "print(name)\n"
   ]
  },
  {
   "cell_type": "markdown",
   "metadata": {},
   "source": [
    "## Error\n",
    "Incompatible types in assignment (expression has type \"int\", variable has type \"str\")  [assignment]mypy\n",
    "- Error in .py file \n",
    "- No error in .ipynb file \n",
    "- print 23 "
   ]
  },
  {
   "cell_type": "code",
   "execution_count": 43,
   "metadata": {},
   "outputs": [
    {
     "name": "stdout",
     "output_type": "stream",
     "text": [
      "Aqeel Shahzad\n"
     ]
    }
   ],
   "source": [
    "name : str = \"Aqeel Shahzad\"\n",
    "\n",
    "print(name)"
   ]
  },
  {
   "cell_type": "markdown",
   "metadata": {},
   "source": [
    "<p>Now code is ok</p>\n",
    "\n",
    "* It will print name"
   ]
  },
  {
   "cell_type": "code",
   "execution_count": 44,
   "metadata": {},
   "outputs": [
    {
     "name": "stdout",
     "output_type": "stream",
     "text": [
      "Pakistan\n"
     ]
    }
   ],
   "source": [
    "a : int = \"Pakistan\"\n",
    "\n",
    "print(a)"
   ]
  },
  {
   "cell_type": "markdown",
   "metadata": {},
   "source": [
    "mypy wp.py\n",
    "wp.py:1: error: Incompatible types in assignment (expression has type \"str\", variable has type \"int\")  [assignment]\n",
    "Found 1 error in 1 file (checked 1 source file)"
   ]
  },
  {
   "cell_type": "markdown",
   "metadata": {},
   "source": [
    "#### Example 01"
   ]
  },
  {
   "cell_type": "code",
   "execution_count": 45,
   "metadata": {},
   "outputs": [
    {
     "name": "stdout",
     "output_type": "stream",
     "text": [
      "<class 'int'>\n",
      "9802888\n",
      "10\n",
      "['__abs__', '__add__', '__and__', '__bool__', '__ceil__', '__class__', '__delattr__', '__dir__', '__divmod__', '__doc__', '__eq__', '__float__', '__floor__', '__floordiv__', '__format__', '__ge__', '__getattribute__', '__getnewargs__', '__getstate__', '__gt__', '__hash__', '__index__', '__init__', '__init_subclass__', '__int__', '__invert__', '__le__', '__lshift__', '__lt__', '__mod__', '__mul__', '__ne__', '__neg__', '__new__', '__or__', '__pos__', '__pow__', '__radd__', '__rand__', '__rdivmod__', '__reduce__', '__reduce_ex__', '__repr__', '__rfloordiv__', '__rlshift__', '__rmod__', '__rmul__', '__ror__', '__round__', '__rpow__', '__rrshift__', '__rshift__', '__rsub__', '__rtruediv__', '__rxor__', '__setattr__', '__sizeof__', '__str__', '__sub__', '__subclasshook__', '__truediv__', '__trunc__', '__xor__', 'as_integer_ratio', 'bit_count', 'bit_length', 'conjugate', 'denominator', 'from_bytes', 'imag', 'is_integer', 'numerator', 'real', 'to_bytes']\n"
     ]
    }
   ],
   "source": [
    "a : int = 10\n",
    "\n",
    "print(type(a))\n",
    "\n",
    "print(id(a))\n",
    "\n",
    "print(a)\n",
    "\n",
    "print(dir(a))"
   ]
  },
  {
   "cell_type": "markdown",
   "metadata": {},
   "source": [
    "```\n",
    "<class 'int'>\n",
    "8885288\n",
    "10\n",
    "['__abs__', '__add__', '__and__', '__bool__', '__ceil__', '__class__', '__delattr__', '__dir__', '__divmod__', '__doc__', '__eq__', '__float__', '__floor__', '__floordiv__', '__format__', '__ge__', '__getattribute__', '__getnewargs__', '__getstate__', '__gt__', '__hash__', '__index__', '__init__', '__init_subclass__', '__int__', '__invert__', '__le__', '__lshift__', '__lt__', '__mod__', '__mul__', '__ne__', '__neg__', '__new__', '__or__', '__pos__', '__pow__', '__radd__', '__rand__', '__rdivmod__', '__reduce__', '__reduce_ex__', '__repr__', '__rfloordiv__', '__rlshift__', '__rmod__', '__rmul__', '__ror__', '__round__', '__rpow__', '__rrshift__', '__rshift__', '__rsub__', '__rtruediv__', '__rxor__', '__setattr__', '__sizeof__', '__str__', '__sub__', '__subclasshook__', '__truediv__', '__trunc__', '__xor__', 'as_integer_ratio', 'bit_count', 'bit_length', 'conjugate', 'denominator', 'from_bytes', 'imag', 'numerator', 'real', 'to_bytes']```\n"
   ]
  },
  {
   "cell_type": "markdown",
   "metadata": {},
   "source": [
    "### Use the built-in function type to find the type of a value\n",
    "* Use the built-in function type to find out what type a value has.\n",
    "* Works on variables as well.\n",
    "  - But remember: the value has the type — the variable is just a label.\n"
   ]
  },
  {
   "cell_type": "code",
   "execution_count": 46,
   "metadata": {},
   "outputs": [
    {
     "name": "stdout",
     "output_type": "stream",
     "text": [
      "<class 'int'>\n",
      "<class 'str'>\n",
      "7\n",
      "['__add__', '__class__', '__contains__', '__delattr__', '__dir__', '__doc__', '__eq__', '__format__', '__ge__', '__getattribute__', '__getitem__', '__getnewargs__', '__getstate__', '__gt__', '__hash__', '__init__', '__init_subclass__', '__iter__', '__le__', '__len__', '__lt__', '__mod__', '__mul__', '__ne__', '__new__', '__reduce__', '__reduce_ex__', '__repr__', '__rmod__', '__rmul__', '__setattr__', '__sizeof__', '__str__', '__subclasshook__', 'capitalize', 'casefold', 'center', 'count', 'encode', 'endswith', 'expandtabs', 'find', 'format', 'format_map', 'index', 'isalnum', 'isalpha', 'isascii', 'isdecimal', 'isdigit', 'isidentifier', 'islower', 'isnumeric', 'isprintable', 'isspace', 'istitle', 'isupper', 'join', 'ljust', 'lower', 'lstrip', 'maketrans', 'partition', 'removeprefix', 'removesuffix', 'replace', 'rfind', 'rindex', 'rjust', 'rpartition', 'rsplit', 'rstrip', 'split', 'splitlines', 'startswith', 'strip', 'swapcase', 'title', 'translate', 'upper', 'zfill']\n",
      "==========\n"
     ]
    }
   ],
   "source": [
    "print(type(52))\n",
    "\n",
    "fitness = \"average\"\n",
    "\n",
    "print(type(fitness))\n",
    "print(len(fitness))\n",
    "print(dir(fitness))\n",
    "\n",
    "separator = '=' * 10\n",
    "\n",
    "print(separator)"
   ]
  },
  {
   "cell_type": "markdown",
   "metadata": {},
   "source": [
    "### 1. <strong>Boolean</strong>\n",
    "- Example 01"
   ]
  },
  {
   "cell_type": "code",
   "execution_count": 47,
   "metadata": {},
   "outputs": [
    {
     "name": "stdout",
     "output_type": "stream",
     "text": [
      "<class 'bool'>\n",
      "9798368\n",
      "True\n",
      "['__abs__', '__add__', '__and__', '__bool__', '__ceil__', '__class__', '__delattr__', '__dir__', '__divmod__', '__doc__', '__eq__', '__float__', '__floor__', '__floordiv__', '__format__', '__ge__', '__getattribute__', '__getnewargs__', '__getstate__', '__gt__', '__hash__', '__index__', '__init__', '__init_subclass__', '__int__', '__invert__', '__le__', '__lshift__', '__lt__', '__mod__', '__mul__', '__ne__', '__neg__', '__new__', '__or__', '__pos__', '__pow__', '__radd__', '__rand__', '__rdivmod__', '__reduce__', '__reduce_ex__', '__repr__', '__rfloordiv__', '__rlshift__', '__rmod__', '__rmul__', '__ror__', '__round__', '__rpow__', '__rrshift__', '__rshift__', '__rsub__', '__rtruediv__', '__rxor__', '__setattr__', '__sizeof__', '__str__', '__sub__', '__subclasshook__', '__truediv__', '__trunc__', '__xor__', 'as_integer_ratio', 'bit_count', 'bit_length', 'conjugate', 'denominator', 'from_bytes', 'imag', 'is_integer', 'numerator', 'real', 'to_bytes']\n"
     ]
    }
   ],
   "source": [
    "a : bool = True\n",
    "\n",
    "print(type(a))\n",
    "\n",
    "print(id(a))\n",
    "\n",
    "print(a)\n",
    "\n",
    "print(dir(a))\n",
    "\n",
    "\n"
   ]
  },
  {
   "cell_type": "markdown",
   "metadata": {},
   "source": [
    "- Example 02"
   ]
  },
  {
   "cell_type": "code",
   "execution_count": 48,
   "metadata": {},
   "outputs": [
    {
     "name": "stdout",
     "output_type": "stream",
     "text": [
      "True\n",
      "False\n",
      "False\n",
      "False\n"
     ]
    }
   ],
   "source": [
    "a1 = True & True # True\n",
    "a12 = True & False # False\n",
    "a13 = False & True # False\n",
    "a14 = False & False # False\n",
    "\n",
    "print(a1)\n",
    "print(a12)\n",
    "print(a13)\n",
    "print(a14)\n"
   ]
  },
  {
   "cell_type": "markdown",
   "metadata": {},
   "source": [
    "- Example 03"
   ]
  },
  {
   "cell_type": "code",
   "execution_count": 49,
   "metadata": {},
   "outputs": [
    {
     "name": "stdout",
     "output_type": "stream",
     "text": [
      "True\n",
      "False\n",
      "False\n",
      "b is not greater than a\n"
     ]
    }
   ],
   "source": [
    "# when compare two values\n",
    "print(10 > 9)\n",
    "print(10 == 9)\n",
    "print(10 < 9)\n",
    "\n",
    "# whether the condition is True or False:\n",
    "a = 400\n",
    "b = 300\n",
    "\n",
    "if b > a :\n",
    "    print(\"b is greater than a\")\n",
    "else : \n",
    "    print(\"b is not greater than a\")\n"
   ]
  },
  {
   "cell_type": "markdown",
   "metadata": {},
   "source": [
    "- Example 04\n",
    "  - The bool() function allows you to evaluate any value, \n",
    "  - given value is True or False in return,"
   ]
  },
  {
   "cell_type": "code",
   "execution_count": 50,
   "metadata": {},
   "outputs": [
    {
     "name": "stdout",
     "output_type": "stream",
     "text": [
      "True\n",
      "True\n",
      "False\n",
      "False\n",
      "False\n",
      "False\n"
     ]
    }
   ],
   "source": [
    "print(bool(\"Hello\"))\n",
    "print(bool(1))\n",
    "print(bool(0))\n",
    "print(bool(None))\n",
    "print(bool([]))\n",
    "print(bool({}))"
   ]
  },
  {
   "cell_type": "markdown",
   "metadata": {},
   "source": [
    "- Example 05\n",
    "  - Almost any value is evaluated to True if it has some sort of content. \n",
    "  - Any string is True, except empty strings.\n",
    "  - Any number is True, except 0.\n",
    "  - Any list, tuple, set, and dictionary are True, except empty ones."
   ]
  },
  {
   "cell_type": "code",
   "execution_count": 51,
   "metadata": {},
   "outputs": [
    {
     "data": {
      "text/plain": [
       "True"
      ]
     },
     "execution_count": 51,
     "metadata": {},
     "output_type": "execute_result"
    }
   ],
   "source": [
    "bool(\"abc\")\n",
    "bool(123)\n",
    "bool([\"prouct1\", \"product2\", \"product3\"])\n"
   ]
  },
  {
   "cell_type": "markdown",
   "metadata": {},
   "source": [
    "- Example 06\n",
    "  - You can execute code based on the Boolean answer of a function:"
   ]
  },
  {
   "cell_type": "code",
   "execution_count": 52,
   "metadata": {},
   "outputs": [
    {
     "name": "stdout",
     "output_type": "stream",
     "text": [
      "Yes\n"
     ]
    }
   ],
   "source": [
    "def myFunction () :\n",
    "    return True\n",
    "if myFunction() : \n",
    "    print(\"Yes\")\n",
    "else :\n",
    "    print(\"No\")"
   ]
  },
  {
   "cell_type": "markdown",
   "metadata": {},
   "source": [
    "- Example 07\n",
    "  - Python also has many built-in functions that return a boolean value\n",
    "  - Like the isinstance() function, which can be used to determine if an object is of a certain data type:"
   ]
  },
  {
   "cell_type": "code",
   "execution_count": 53,
   "metadata": {},
   "outputs": [
    {
     "name": "stdout",
     "output_type": "stream",
     "text": [
      "True\n",
      "False\n",
      "False\n",
      "False\n",
      "False\n"
     ]
    }
   ],
   "source": [
    "x = 200\n",
    "\n",
    "print(isinstance(x,int)) # true\n",
    "print(isinstance(x,float)) # false\n",
    "print(isinstance(x,str)) # false\n",
    "print(isinstance(x,bool)) # false\n",
    "print(isinstance(x,tuple)) # false"
   ]
  },
  {
   "cell_type": "markdown",
   "metadata": {},
   "source": [
    "## ** __ Test Yourself With Exercises __ **\n",
    "\n",
    "- Q1 The statement below would print a Boolean value, which one?\n",
    "```python\n",
    "    print(10 > 9)\n",
    "```\n",
    "<Details>\n",
    "    <summary>Show me Answer</summary>\n",
    "    <p>True</p>\n",
    "</Details>\n",
    "\n",
    "- Q2 The statement below would print a Boolean value, which one?\n",
    "  ```python\n",
    "    print(10 == 9)\n",
    "  ```\n",
    "<Details>\n",
    "  <summary>Show me Answer</summary>\n",
    "  <p>False</p>\n",
    "</Details>\n",
    "\n",
    "- Q3 The statement below would print a Boolean value, which one?\n",
    "  ```python\n",
    "  print(10 < 9)\n",
    "  ```\n",
    "<Details>\n",
    "  <summary>Show me Answer</summary>\n",
    "  <p>False</p>\n",
    "</Details>\n",
    "\n",
    "- Q4 The statement below would print a Boolean value, which one?\n",
    "  ```python\n",
    "    print(bool(\"abc\"))\n",
    "  ```\n",
    "<Details>\n",
    "  <summary>Show me Answer</summary>\n",
    "  <p>True</p>\n",
    "</Details>\n",
    "\n",
    "- Q5 The statement below would print a Boolean value, which one?\n",
    "  ```python\n",
    "    print(bool(0))\n",
    "  ```\n",
    "<Details>\n",
    "  <summary>Show me Answer</summary>\n",
    "  <p>False</p>\n",
    "</Details>\n",
    "\n",
    "- Q6 Multiply 10 with 5, and print the result.\n",
    "  ```python \n",
    "    print(10 * 5)\n",
    "  ```\n",
    "<Details>\n",
    "  <summary>Show me Answer</summary>\n",
    "  <p>50</p>\n",
    "</Details>\n",
    "\n",
    "- Q7 Use the correct membership operator to check if \"apple\" is present in the fruits object.\n",
    "  \n",
    "  ```python\n",
    "     fruits = [\"apple\", \"banana\" ]\n",
    "     if \"apple\" __ fruits:\n",
    "      print(\"Yes, apple is a fruit!\")\n",
    "  ```\n",
    "\n",
    "<Details>\n",
    "  <summary>Show me Answer</summary>\n",
    "  <h1>in</h1>\n",
    "</Details>\n",
    "\n",
    "\n",
    "\n"
   ]
  },
  {
   "cell_type": "markdown",
   "metadata": {},
   "source": [
    "### 2. Strings"
   ]
  },
  {
   "cell_type": "markdown",
   "metadata": {},
   "source": [
    "- Example 0.1"
   ]
  },
  {
   "cell_type": "code",
   "execution_count": 54,
   "metadata": {},
   "outputs": [
    {
     "name": "stdout",
     "output_type": "stream",
     "text": [
      "I told my friend, \"Python is my favorite language!\"\n",
      "The languae 'Python' is named after Montly Python , not the snak.\n",
      "I said that, You'r too late.\n"
     ]
    }
   ],
   "source": [
    "sentence1 = 'I told my friend, \"Python is my favorite language!\"'\n",
    "sentence2 = \"The languae 'Python' is named after Montly Python , not the snak.\"\n",
    "sentence3 = \"I said that, You'r too late.\"\n",
    "\n",
    "print(sentence1)\n",
    "print(sentence2)\n",
    "print(sentence3)"
   ]
  },
  {
   "cell_type": "markdown",
   "metadata": {},
   "source": [
    "- Example 0.2\n",
    "  - Changing Case in a String with Methods"
   ]
  },
  {
   "cell_type": "code",
   "execution_count": 55,
   "metadata": {},
   "outputs": [
    {
     "name": "stdout",
     "output_type": "stream",
     "text": [
      "Aqeel Shahzad\n",
      "Aqeel shahzad\n",
      "aqeel shahzad\n",
      "AQEEL SHAHZAD\n",
      "how is goung your python crash course\n",
      "how is goung your python crash course\n"
     ]
    }
   ],
   "source": [
    "name = \"aqEeL sHahZad\"\n",
    "\n",
    "print(name.title())\n",
    "print(name.capitalize())\n",
    "print(name.lower())\n",
    "print(name.upper())\n",
    "\n",
    "text = \"HoW iS gouNg yoUr pYtHon CraSh CoUrse\"\n",
    "# convert all characters to lowercase\n",
    "# also same as lower\n",
    "lowercased_string = text.casefold()\n",
    "print(lowercased_string)\n",
    "print(text.lower())\n",
    "\n",
    "\n",
    "\n",
    "\n",
    "\n"
   ]
  },
  {
   "cell_type": "markdown",
   "metadata": {},
   "source": [
    "- Example 0.3\n",
    "  - String ljust() Parameters\n",
    "  - ljust() method takes two parameters:\n",
    "#### <strong>Syntax</strong>\n",
    "```syntax\n",
    "    string.ljust(width[, fillchar])\n",
    "```\n"
   ]
  },
  {
   "cell_type": "markdown",
   "metadata": {},
   "source": [
    "- <strong>width </strong> - width of the given string. If width is less than or equal to the length of the string, the original string is returned.\n",
    "- <strong>fillchar (Optional)</strong> character to fill the remaining space of the width"
   ]
  },
  {
   "cell_type": "code",
   "execution_count": 56,
   "metadata": {},
   "outputs": [
    {
     "name": "stdout",
     "output_type": "stream",
     "text": [
      "cat  \n"
     ]
    }
   ],
   "source": [
    "string = 'cat'\n",
    "width = 5\n",
    "\n",
    "# print left justified string\n",
    "print(string.ljust(width))"
   ]
  },
  {
   "cell_type": "markdown",
   "metadata": {},
   "source": [
    "- Example 0.4"
   ]
  },
  {
   "cell_type": "code",
   "execution_count": 57,
   "metadata": {},
   "outputs": [
    {
     "name": "stdout",
     "output_type": "stream",
     "text": [
      "cat**\n",
      "**cat\n"
     ]
    }
   ],
   "source": [
    "text = \"cat\"\n",
    "width = 5\n",
    "fillchar = '*'\n",
    "\n",
    "# print left justified string\n",
    "print(text.ljust(width, fillchar))\n",
    "# simialr right justified string\n",
    "print(text.rjust(width , fillchar))"
   ]
  },
  {
   "cell_type": "markdown",
   "metadata": {},
   "source": [
    "- The <b>count()</b> method returns the number of occurrences of a substring in the given string."
   ]
  },
  {
   "cell_type": "code",
   "execution_count": 58,
   "metadata": {},
   "outputs": [
    {
     "name": "stdout",
     "output_type": "stream",
     "text": [
      "Number of occurence of p :  4\n",
      "Number of occurence of p :  1\n"
     ]
    }
   ],
   "source": [
    "message = \"python is popular programming language\"\n",
    "\n",
    "# number of occurence of 'p'\n",
    "print(\"Number of occurence of p : \", message.count('p'))\n",
    "print(\"Number of occurence of p : \", message.count('is'))"
   ]
  },
  {
   "cell_type": "markdown",
   "metadata": {},
   "source": [
    "##### Example 0.4: Count number of occurrences of a given substring using start and end"
   ]
  },
  {
   "cell_type": "code",
   "execution_count": 59,
   "metadata": {},
   "outputs": [
    {
     "name": "stdout",
     "output_type": "stream",
     "text": [
      "3\n"
     ]
    }
   ],
   "source": [
    "message = \"python is popular programming language\"\n",
    "\n",
    "# 3 parameters  \n",
    "#  substring , start , end\n",
    "print(message.count(\"p\",8,20))"
   ]
  },
  {
   "cell_type": "markdown",
   "metadata": {},
   "source": [
    "- Example 0.5\n",
    "* expandtabs() Parameters\n",
    "  - tabsize: The number of spaces per indentation level. Default is 8."
   ]
  },
  {
   "cell_type": "code",
   "execution_count": 60,
   "metadata": {},
   "outputs": [
    {
     "name": "stdout",
     "output_type": "stream",
     "text": [
      "name    12345   age     course\n"
     ]
    }
   ],
   "source": [
    "str = 'name\\t12345\\tage\\tcourse'\n",
    "\n",
    "# no argument is passed\n",
    "# default tabsize is 8\n",
    "result = str.expandtabs()\n",
    "\n",
    "print(result)"
   ]
  },
  {
   "cell_type": "markdown",
   "metadata": {},
   "source": [
    "- Example 0.6\n",
    "* Python String encode()\n",
    "  - encode() returns a bytes object\n",
    "* Python String decode()\n",
    "   - decode() returns a string"
   ]
  },
  {
   "cell_type": "code",
   "execution_count": 61,
   "metadata": {},
   "outputs": [
    {
     "name": "stdout",
     "output_type": "stream",
     "text": [
      "b'Python Programming'\n",
      "Python Programming\n"
     ]
    }
   ],
   "source": [
    "title = 'Python Programming'\n",
    "\n",
    "# chane encoding to utf-8\n",
    "code = title.encode()\n",
    "print(code)\n",
    "# decode program using title.decode()\n",
    "print(code.decode())\n"
   ]
  },
  {
   "cell_type": "code",
   "execution_count": 62,
   "metadata": {},
   "outputs": [
    {
     "name": "stdout",
     "output_type": "stream",
     "text": [
      "All characters of string are alphanumeric.\n",
      "\n",
      "\n",
      "Languages:\n",
      "Python\n",
      "C\n",
      "JavaScript\n"
     ]
    }
   ],
   "source": [
    "text = \"PythonProgramming123\"\n",
    "\n",
    "# checks if all the characters are alphanumeric \n",
    "if text.isalnum() == True:\n",
    "   print(\"All characters of string are alphanumeric.\")\n",
    "else:\n",
    "    print(\"All characters are not alphanumeric.\")\n",
    "# create whitespaces \n",
    "print(\"\\n\\nLanguages:\\nPython\\nC\\nJavaScript\")"
   ]
  },
  {
   "cell_type": "code",
   "execution_count": 63,
   "metadata": {},
   "outputs": [
    {
     "name": "stdout",
     "output_type": "stream",
     "text": [
      "languages:\n",
      "\tPython\n",
      "\tC\n",
      "\tJavascript\n"
     ]
    }
   ],
   "source": [
    "print(\"languages:\\n\\tPython\\n\\tC\\n\\tJavascript\")"
   ]
  },
  {
   "cell_type": "code",
   "execution_count": 64,
   "metadata": {},
   "outputs": [
    {
     "name": "stdout",
     "output_type": "stream",
     "text": [
      "PythonProgramming123\n",
      "Python    \n",
      "Python  \n",
      "  Python\n",
      "Python\n"
     ]
    }
   ],
   "source": [
    "rtext = 'Python    '\n",
    "ltext = '   Python'\n",
    "ctext = '  Python  '\n",
    "\n",
    "print(text.rstrip())\n",
    "print(rtext.lstrip())\n",
    "\n",
    "print(ctext.lstrip())\n",
    "print(ctext.rstrip())\n",
    "print(ctext.strip())"
   ]
  },
  {
   "cell_type": "code",
   "execution_count": 65,
   "metadata": {},
   "outputs": [
    {
     "name": "stdout",
     "output_type": "stream",
     "text": [
      "www.google.com\n",
      "https://www.google\n",
      "google\n"
     ]
    }
   ],
   "source": [
    "url = 'https://www.google.com'\n",
    "\n",
    "text = url.removeprefix(\"https://www.\")\n",
    "text2 = text.removesuffix(\".com\")\n",
    "\n",
    "print(url.removeprefix(\"https://\"))\n",
    "print(url.removesuffix(\".com\"))\n",
    "print(text2)"
   ]
  },
  {
   "cell_type": "markdown",
   "metadata": {},
   "source": [
    "### 3. Numbers"
   ]
  },
  {
   "cell_type": "code",
   "execution_count": 66,
   "metadata": {},
   "outputs": [
    {
     "name": "stdout",
     "output_type": "stream",
     "text": [
      "5\n",
      "1\n",
      "6\n",
      "1.5\n",
      "1\n"
     ]
    }
   ],
   "source": [
    "print( 3 + 2 )\n",
    "print( 3 - 2 )\n",
    "print( 3 * 2 )\n",
    "print( 3 / 2 )\n",
    "print( 3 // 2 )"
   ]
  },
  {
   "cell_type": "code",
   "execution_count": 67,
   "metadata": {},
   "outputs": [
    {
     "name": "stdout",
     "output_type": "stream",
     "text": [
      "9\n",
      "14\n",
      "20\n"
     ]
    }
   ],
   "source": [
    "print( 3 ** 2 ) # exponents || as power of something after 1st number\n",
    "print(2 + 3 * 4)\n",
    "print((2 + 3) * 4)"
   ]
  },
  {
   "cell_type": "markdown",
   "metadata": {},
   "source": [
    "#### Underscores in Numbers"
   ]
  },
  {
   "cell_type": "code",
   "execution_count": 68,
   "metadata": {},
   "outputs": [
    {
     "name": "stdout",
     "output_type": "stream",
     "text": [
      "14000000000\n"
     ]
    }
   ],
   "source": [
    "universe_age = 14_000_000_000\n",
    "print(universe_age)"
   ]
  },
  {
   "cell_type": "markdown",
   "metadata": {},
   "source": [
    "#### Multiple Assignment"
   ]
  },
  {
   "cell_type": "code",
   "execution_count": 69,
   "metadata": {},
   "outputs": [
    {
     "name": "stdout",
     "output_type": "stream",
     "text": [
      "11\n"
     ]
    }
   ],
   "source": [
    "x, y, z = 2, 3, 5\n",
    "\n",
    "print(x * y + z)"
   ]
  },
  {
   "cell_type": "markdown",
   "metadata": {},
   "source": [
    "#### Constants\n",
    "```\n",
    "Python doesn’t have built-in constant types, but Python program-\n",
    "mers use all capital letters to indicate a variable should be treated as a con-\n",
    "stant and never be changed:\n",
    "```"
   ]
  },
  {
   "cell_type": "code",
   "execution_count": 70,
   "metadata": {},
   "outputs": [
    {
     "name": "stdout",
     "output_type": "stream",
     "text": [
      "100\n",
      "Hello changed\n"
     ]
    }
   ],
   "source": [
    "MAX_CONNECTIONS = 5000\n",
    "MAX_CONNECTIONS = \"Hello changed\"\n",
    "MAX_CONNECTIONS_PER_HOST = 100\n",
    "print(MAX_CONNECTIONS_PER_HOST)\n",
    "print(MAX_CONNECTIONS)"
   ]
  },
  {
   "cell_type": "markdown",
   "metadata": {},
   "source": [
    "#### Lists"
   ]
  },
  {
   "cell_type": "markdown",
   "metadata": {},
   "source": [
    " <b>Guest List:</b> If you could invite anyone, living or deceased, to dinner, who\n",
    "would you invite? Make a list that includes at least three people you’d like to\n",
    "invite to dinner. Then use your list to print a message to each person, inviting\n",
    "them to dinner."
   ]
  },
  {
   "cell_type": "code",
   "execution_count": 71,
   "metadata": {},
   "outputs": [
    {
     "name": "stdout",
     "output_type": "stream",
     "text": [
      "Dear Albert Einstein,\n",
      "\n",
      "I hope this message finds you well. I am hosting a dinner event, and I would be honored if you could join us. Your presence would make the evening truly special.\n",
      "\n",
      "Please let me know if you can attend.\n",
      "\n",
      "Best regards, [Aqeel Shahzad]\n",
      "\n",
      "\n",
      "Dear Leonardo da Vinci,\n",
      "\n",
      "I hope this message finds you well. I am hosting a dinner event, and I would be honored if you could join us. Your presence would make the evening truly special.\n",
      "\n",
      "Please let me know if you can attend.\n",
      "\n",
      "Best regards, [Aqeel Shahzad]\n",
      "\n",
      "\n",
      "Dear Marie Curie,\n",
      "\n",
      "I hope this message finds you well. I am hosting a dinner event, and I would be honored if you could join us. Your presence would make the evening truly special.\n",
      "\n",
      "Please let me know if you can attend.\n",
      "\n",
      "Best regards, [Aqeel Shahzad]\n",
      "\n",
      "\n",
      "Invitations have been sent.\n"
     ]
    }
   ],
   "source": [
    "guestList = [\"Albert Einstein\", \"Leonardo da Vinci\", \"Marie Curie\"]\n",
    "\n",
    "invitationTemplate = \"Dear {},\\n\\nI hope this message finds you well. I am hosting a dinner event, and I would be honored if you could join us. Your presence would make the evening truly special.\\n\\nPlease let me know if you can attend.\\n\\nBest regards, [Aqeel Shahzad]\"\n",
    "\n",
    "for guest in guestList:\n",
    "    invitation_message = invitationTemplate.format(guest)\n",
    "    print(invitation_message)\n",
    "    print(\"\\n\")\n",
    "\n",
    "print(\"Invitations have been sent.\")\n"
   ]
  },
  {
   "cell_type": "code",
   "execution_count": 72,
   "metadata": {},
   "outputs": [
    {
     "name": "stdout",
     "output_type": "stream",
     "text": [
      "<class 'list'>\n",
      "140350489267072\n",
      "[1, 2, 3, 4, 5]\n",
      "['__add__', '__class__', '__class_getitem__', '__contains__', '__delattr__', '__delitem__', '__dir__', '__doc__', '__eq__', '__format__', '__ge__', '__getattribute__', '__getitem__', '__getstate__', '__gt__', '__hash__', '__iadd__', '__imul__', '__init__', '__init_subclass__', '__iter__', '__le__', '__len__', '__lt__', '__mul__', '__ne__', '__new__', '__reduce__', '__reduce_ex__', '__repr__', '__reversed__', '__rmul__', '__setattr__', '__setitem__', '__sizeof__', '__str__', '__subclasshook__', 'append', 'clear', 'copy', 'count', 'extend', 'index', 'insert', 'pop', 'remove', 'reverse', 'sort']\n"
     ]
    }
   ],
   "source": [
    "a : list[str] = [1,2,3,4,5]\n",
    "\n",
    "print(type(a))\n",
    "\n",
    "print(id(a))\n",
    "\n",
    "print(a)\n",
    "\n",
    "print(dir(a))\n"
   ]
  },
  {
   "cell_type": "markdown",
   "metadata": {},
   "source": [
    "```\n",
    "\n",
    "    wp.py:1: error: List item 0 has incompatible type \"int\"; expected \"str\"  [list-item] \n",
    "    wp.py:1: error: List item 1 has incompatible type \"int\"; expected \"str\"  [list-item]\n",
    "    wp.py:1: error: List item 2 has incompatible type \"int\"; expected \"str\"  [list-item]\n",
    "    wp.py:1: error: List item 3 has incompatible type \"int\"; expected \"str\"  [list-item]\n",
    "    wp.py:1: error: List item 4 has incompatible type \"int\"; expected \"str\"  [list-item]\n",
    "    Found 5 errors in 1 file (checked 1 source file)\n",
    "```"
   ]
  },
  {
   "cell_type": "code",
   "execution_count": 73,
   "metadata": {},
   "outputs": [
    {
     "name": "stdout",
     "output_type": "stream",
     "text": [
      "<class 'list'>\n",
      "140350489238208\n",
      "[1, 2, 3, 4, 5]\n",
      "['__add__', '__class__', '__class_getitem__', '__contains__', '__delattr__', '__delitem__', '__dir__', '__doc__', '__eq__', '__format__', '__ge__', '__getattribute__', '__getitem__', '__getstate__', '__gt__', '__hash__', '__iadd__', '__imul__', '__init__', '__init_subclass__', '__iter__', '__le__', '__len__', '__lt__', '__mul__', '__ne__', '__new__', '__reduce__', '__reduce_ex__', '__repr__', '__reversed__', '__rmul__', '__setattr__', '__setitem__', '__sizeof__', '__str__', '__subclasshook__', 'append', 'clear', 'copy', 'count', 'extend', 'index', 'insert', 'pop', 'remove', 'reverse', 'sort']\n"
     ]
    }
   ],
   "source": [
    "# Solution\n",
    "a : list[int] = [1,2,3,4,5]\n",
    "\n",
    "print(type(a))\n",
    "\n",
    "print(id(a))\n",
    "\n",
    "print(a)\n",
    "\n",
    "print(dir(a))"
   ]
  },
  {
   "cell_type": "code",
   "execution_count": 74,
   "metadata": {},
   "outputs": [
    {
     "name": "stdout",
     "output_type": "stream",
     "text": [
      "<class 'list'>\n",
      "140350489267072\n",
      "['a', 'b', '3', '4', 'p']\n",
      "['__add__', '__class__', '__class_getitem__', '__contains__', '__delattr__', '__delitem__', '__dir__', '__doc__', '__eq__', '__format__', '__ge__', '__getattribute__', '__getitem__', '__getstate__', '__gt__', '__hash__', '__iadd__', '__imul__', '__init__', '__init_subclass__', '__iter__', '__le__', '__len__', '__lt__', '__mul__', '__ne__', '__new__', '__reduce__', '__reduce_ex__', '__repr__', '__reversed__', '__rmul__', '__setattr__', '__setitem__', '__sizeof__', '__str__', '__subclasshook__', 'append', 'clear', 'copy', 'count', 'extend', 'index', 'insert', 'pop', 'remove', 'reverse', 'sort']\n"
     ]
    }
   ],
   "source": [
    "# Solution\n",
    "a : list[str] = [\"a\",\"b\",\"3\",\"4\",\"p\"]\n",
    "\n",
    "print(type(a))\n",
    "\n",
    "print(id(a))\n",
    "\n",
    "print(a)\n",
    "\n",
    "print(dir(a))"
   ]
  },
  {
   "cell_type": "markdown",
   "metadata": {},
   "source": [
    "<b>3-5. Changing Guest List:</b> You just heard that one of your guests can’t make the\n",
    "dinner, so you need to send out a new set of invitations. You’ll have to think of\n",
    "someone else to invite.\n",
    "* Start with your program from Exercise 3-4. Add a print() call at the end of\n",
    "your program, stating the name of the guest who can’t make it.\n",
    "* Modify your list, replacing the name of the guest who can’t make it with the\n",
    "name of the new person you are inviting.\n",
    "* Print a second set of invitation messages, one for each person who is still in\n",
    "your list."
   ]
  },
  {
   "cell_type": "markdown",
   "metadata": {},
   "source": [
    "<details>\n",
    "   <summary>Show solution</summary>\n",
    "   \n",
    "   ```Python\n",
    "      guestList = [\"Albert Einstein\", \"Leonardo da Vinci\", \"Marie Curie\", \"Missing Guest\"]\n",
    "\n",
    "      invitationTemp = \"Dear {},\\n\\nI hope this message finds you well. I am hosting a dinner event, and I would be honored if you could join us. Your presence would make the evening truly special.\\n\\nPlease let me know if you can attend.\\n\\nBest regards, [Aqeel Shahzad]\"\n",
    "\n",
    "      missingGuest = guestList.index('Missing Guest')\n",
    "      print(\"Thanks for confirming, Dear! ,'{}'\".format(guestList[missingGuest]))\n",
    "\n",
    "      guestList[missingGuest] = \"New Guest\"\n",
    "\n",
    "      for guest in guestList:\n",
    "         print(invitationTemp.format(guest))\n",
    "         print('\\n')\n",
    "      print('Thanks for joining us', guestList[missingGuest])\n",
    "   ```\n",
    "\n",
    "</details>\n"
   ]
  },
  {
   "cell_type": "markdown",
   "metadata": {},
   "source": [
    "<b>3-6. More Guests:</b> You just found a bigger dinner table, so now more space is\n",
    "available. Think of three more guests to invite to dinner.\n",
    "* Start with your program from Exercise 3-4 or 3-5. Add a print() call to the\n",
    "end of your program, informing people that you found a bigger table.\n",
    "* Use insert() to add one new guest to the beginning of your list.\n",
    "* Use insert() to add one new guest to the middle of your list.\n",
    "* Use append() to add one new guest to the end of your list.\n",
    "* Print a new set of invitation messages, one for each person in your list."
   ]
  },
  {
   "cell_type": "markdown",
   "metadata": {},
   "source": [
    "<details>\n",
    "   <summary>Show solution</summary>\n",
    "\n",
    "\n",
    "```Python\n",
    "    guestList = [\"Albert Einstein\", \"Leonardo da Vinci\", \"Marie Curie\", \"Missing\"]\n",
    "\n",
    "    invitationTemp = \"Dear {},\\n\\nI hope this message finds you well. I am hosting a dinner event, and I would be honored if you could join us. Your presence would make the evening truly special.\\n\\nPlease let me know if you can attend.\\n\\nBest regards, [Aqeel Shahzad]\"\n",
    "\n",
    "    # Step 1: Inform about the bigger table\n",
    "    print(\"Good news! We found a bigger table for our dinner event.\\n\")\n",
    "\n",
    "    # Step 2: Add one new guest to the beginning of the list\n",
    "    guestList.insert(0, \"Isaac Newton\")\n",
    "\n",
    "    # Step 3: Add one new guest to the middle of the list\n",
    "    guestList.insert(len(guestList) // 2, \"Nikola Tesla\")\n",
    "\n",
    "    # Step 4: Add one new guest to the end of the list\n",
    "    guestList.append(\"Galileo Galilei\")\n",
    "\n",
    "    print(\"guestList\",guestList)\n",
    "\n",
    "    # Step 5: Print new invitation messages for all guests\n",
    "    for guest in guestList:\n",
    "        print(invitationTemp.format(guest))\n",
    "        print('\\n')\n",
    "    print(\"Invitation has been sent to all Guests\")\n",
    "```\n",
    "\n",
    "</details>"
   ]
  },
  {
   "cell_type": "markdown",
   "metadata": {},
   "source": [
    "<b>3-7. Shrinking Guest List:</b> You just found out that your new dinner table won’t\n",
    "arrive in time for the dinner, and now you have space for only two guests.\n",
    "* Start with your program from Exercise 3-6. Add a new line that prints a\n",
    "message saying that you can invite only two people for dinner.\n",
    "* Use pop() to remove guests from your list one at a time until only two\n",
    "names remain in your list. Each time you pop a name from your list, print a\n",
    "message to that person letting them know you’re sorry you can’t invite them\n",
    "to dinner.\n",
    "* Print a message to each of the two people still on your list, letting them\n",
    "know they’re still invited.\n",
    "* Use del to remove the last two names from your list, so you have an empty\n",
    "list. Print your list to make sure you actually have an empty list at the end of\n",
    "your program."
   ]
  },
  {
   "cell_type": "markdown",
   "metadata": {},
   "source": [
    "<details>\n",
    "    <summary>\n",
    "    <b>Show code</b>\n",
    "    </summary>\n",
    "    ```Python\n",
    "            \n",
    "        guestList = [\"Albert Einstein\", \"Leonardo da Vinci\", \"Marie Curie\", \"Missing\", \"Isaac Newton\", \"Nikola Tesla\", \"Galileo Galilei\"]\n",
    "\n",
    "        invitationTemp = \"Dear {},\\n\\nI hope this message finds you well. I am hosting a dinner event, and I would be honored if you could join us. Your presence would make the evening truly special.\\n\\nPlease let me know if you can attend.\\n\\nBest regards, [Aqeel Shahzad]\"\n",
    "\n",
    "        # ASCII art for a dinner table\n",
    "        dinner_table = r'''\n",
    "        ________ \n",
    "        | Dinner |\n",
    "        | Table  |\n",
    "        |________|\n",
    "        '''\n",
    "\n",
    "        # ASCII art for a fire\n",
    "        fire = r'''\n",
    "        ^   ^   ^   ^   ^   ^   ^   ^\n",
    "        / \\ / \\ / \\ / \\ / \\ / \\ / \\ / \\\n",
    "        ( F | I | R | E |   | T | A | B )\n",
    "        \\_/ \\_/ \\_/ \\_/ \\_/ \\_/ \\_/ \\_/ \n",
    "        ^   ^   ^   ^   ^   ^   ^   ^\n",
    "        '''\n",
    "\n",
    "        # Step 1: Inform about the bigger table\n",
    "        print(\"Good news! We found a bigger table for our dinner event.\")\n",
    "        print(dinner_table)\n",
    "\n",
    "        # Step 2: Add one new guest to the beginning of the list\n",
    "        guestList.insert(0, \"Isaac Newton\")\n",
    "\n",
    "        # Step 3: Add one new guest to the middle of the list\n",
    "        guestList.insert(len(guestList) // 2, \"Nikola Tesla\")\n",
    "\n",
    "        # Step 4: Add one new guest to the end of the list\n",
    "        guestList.append(\"Galileo Galilei\")\n",
    "\n",
    "        # Step 5: Generate invitation messages for all guests (including new additions)\n",
    "        for guest in guestList:\n",
    "            print(invitationTemp.format(guest))\n",
    "            print('\\n')\n",
    "\n",
    "        # Step 6: Inform that you can invite only two people for dinner\n",
    "        print(\"Unfortunately, the new dinner table won't arrive in time, and we can only invite two people for dinner.\\n\")\n",
    "\n",
    "        # Step 7: Use pop() to remove guests until only two names remain\n",
    "        while len(guestList) > 2:\n",
    "            removed_guest = guestList.pop()\n",
    "            print(\"Sorry, {}, we can't invite you to dinner this time.\".format(removed_guest))\n",
    "\n",
    "        # Step 8: Print a message to the two people still on your list\n",
    "        for guest in guestList:\n",
    "            print(\"You're still invited, {}.\".format(guest))\n",
    "\n",
    "        # Step 9: Use del to remove the last two names from your list\n",
    "        del guestList[0:2]\n",
    "\n",
    "        # Step 10: Print your list to ensure it's empty\n",
    "        print(\"Guest list after removing names:\", guestList)\n",
    "\n",
    "        # Printing a fire symbol\n",
    "        print(\"As a special touch, there's a cozy fire:\")\n",
    "        print(fire)\n",
    "    ```\n",
    "</details>"
   ]
  },
  {
   "cell_type": "markdown",
   "metadata": {},
   "source": [
    "<details>\n",
    "    <summary>\n",
    "    <b>Show Output</b>\n",
    "    </summary>\n",
    "    ```\n",
    "       Hello World\n",
    "Aqeel Shahzad\n",
    "7\n",
    "23\n",
    "\n",
    "Aqeel Shahzad\n",
    "Pakistan\n",
    "<class 'int'>\n",
    "9802888\n",
    "10\n",
    "['__abs__', '__add__', '__and__', '__bool__', '__ceil__', '__class__', '__delattr__', '__dir__', '__divmod__', '__doc__', '__eq__', '__float__', '__floor__', '__floordiv__', '__format__', '__ge__', '__getattribute__', '__getnewargs__', '__getstate__', '__gt__', '__hash__', '__index__', '__init__', '__init_subclass__', '__int__', '__invert__', '__le__', '__lshift__', '__lt__', '__mod__', '__mul__', '__ne__', '__neg__', '__new__', '__or__', '__pos__', '__pow__', '__radd__', '__rand__', '__rdivmod__', '__reduce__', '__reduce_ex__', '__repr__', '__rfloordiv__', '__rlshift__', '__rmod__', '__rmul__', '__ror__', '__round__', '__rpow__', '__rrshift__', '__rshift__', '__rsub__', '__rtruediv__', '__rxor__', '__setattr__', '__sizeof__', '__str__', '__sub__', '__subclasshook__', '__truediv__', '__trunc__', '__xor__', 'as_integer_ratio', 'bit_count', 'bit_length', 'conjugate', 'denominator', 'from_bytes', 'imag', 'is_integer', 'numerator', 'real', 'to_bytes']\n",
    "<class 'int'>\n",
    "<class 'str'>\n",
    "7\n",
    "['__add__', '__class__', '__contains__', '__delattr__', '__dir__', '__doc__', '__eq__', '__format__', '__ge__', '__getattribute__', '__getitem__', '__getnewargs__', '__getstate__', '__gt__', '__hash__', '__init__', '__init_subclass__', '__iter__', '__le__', '__len__', '__lt__', '__mod__', '__mul__', '__ne__', '__new__', '__reduce__', '__reduce_ex__', '__repr__', '__rmod__', '__rmul__', '__setattr__', '__sizeof__', '__str__', '__subclasshook__', 'capitalize', 'casefold', 'center', 'count', 'encode', 'endswith', 'expandtabs', 'find', 'format', 'format_map', 'index', 'isalnum', 'isalpha', 'isascii', 'isdecimal', 'isdigit', 'isidentifier', 'islower', 'isnumeric', 'isprintable', 'isspace', 'istitle', 'isupper', 'join', 'ljust', 'lower', 'lstrip', 'maketrans', 'partition', 'removeprefix', 'removesuffix', 'replace', 'rfind', 'rindex', 'rjust', 'rpartition', 'rsplit', 'rstrip', 'split', 'splitlines', 'startswith', 'strip', 'swapcase', 'title', 'translate', 'upper', 'zfill']\n",
    "==========\n",
    "<class 'bool'>\n",
    "9798368\n",
    "True\n",
    "['__abs__', '__add__', '__and__', '__bool__', '__ceil__', '__class__', '__delattr__', '__dir__', '__divmod__', '__doc__', '__eq__', '__float__', '__floor__', '__floordiv__', '__format__', '__ge__', '__getattribute__', '__getnewargs__', '__getstate__', '__gt__', '__hash__', '__index__', '__init__', '__init_subclass__', '__int__', '__invert__', '__le__', '__lshift__', '__lt__', '__mod__', '__mul__', '__ne__', '__neg__', '__new__', '__or__', '__pos__', '__pow__', '__radd__', '__rand__', '__rdivmod__', '__reduce__', '__reduce_ex__', '__repr__', '__rfloordiv__', '__rlshift__', '__rmod__', '__rmul__', '__ror__', '__round__', '__rpow__', '__rrshift__', '__rshift__', '__rsub__', '__rtruediv__', '__rxor__', '__setattr__', '__sizeof__', '__str__', '__sub__', '__subclasshook__', '__truediv__', '__trunc__', '__xor__', 'as_integer_ratio', 'bit_count', 'bit_length', 'conjugate', 'denominator', 'from_bytes', 'imag', 'is_integer', 'numerator', 'real', 'to_bytes']\n",
    "True\n",
    "False\n",
    "False\n",
    "False\n",
    "True\n",
    "False\n",
    "False\n",
    "b is not greater than a\n",
    "True\n",
    "True\n",
    "False\n",
    "False\n",
    "False\n",
    "False\n",
    "True\n",
    "Yes\n",
    "True\n",
    "False\n",
    "False\n",
    "False\n",
    "False\n",
    "I told my friend, \"Python is my favorite language!\"\n",
    "The languae 'Python' is named after Montly Python , not the snak.\n",
    "I said that, You'r too late.\n",
    "Aqeel Shahzad\n",
    "Aqeel shahzad\n",
    "aqeel shahzad\n",
    "AQEEL SHAHZAD\n",
    "how is goung your python crash course\n",
    "how is goung your python crash course\n",
    "cat  \n",
    "cat**\n",
    "**cat\n",
    "Number of occurence of p :  4\n",
    "Number of occurence of p :  1\n",
    "3\n",
    "name    12345   age     course\n",
    "b'Python Programming'\n",
    "Python Programming\n",
    "All characters of string are alphanumeric.\n",
    "\n",
    "\n",
    "Languages:\n",
    "Python\n",
    "C\n",
    "JavaScript\n",
    "languages:\n",
    "\tPython\n",
    "\tC\n",
    "\tJavascript\n",
    "Python\n",
    "Python    \n",
    "Python  \n",
    "  Python\n",
    "Python\n",
    "www.google.com\n",
    "https://www.google\n",
    "google\n",
    "5\n",
    "1\n",
    "6\n",
    "1.5\n",
    "1\n",
    "9\n",
    "14\n",
    "20\n",
    "14000000000\n",
    "11\n",
    "100\n",
    "Hello changed\n",
    "\n",
    "Dear Albert Einstein,\n",
    "\n",
    "I hope this message finds you well. I am hosting a dinner event, and I would be honored if you could join us. Your presence would make the evening truly special.\n",
    "\n",
    "Please let me know if you can attend.\n",
    "\n",
    "Best regards, [Aqeel Shahzad]\n",
    "\n",
    "\n",
    "Dear Leonardo da Vinci,\n",
    "\n",
    "I hope this message finds you well. I am hosting a dinner event, and I would be honored if you could join us. Your presence would make the evening truly special.\n",
    "\n",
    "Please let me know if you can attend.\n",
    "\n",
    "Best regards, [Aqeel Shahzad]\n",
    "\n",
    "\n",
    "Dear Marie Curie,\n",
    "\n",
    "I hope this message finds you well. I am hosting a dinner event, and I would be honored if you could join us. Your presence would make the evening truly special.\n",
    "\n",
    "Please let me know if you can attend.\n",
    "\n",
    "Best regards, [Aqeel Shahzad]\n",
    "\n",
    "\n",
    "Invitations have been sent.\n",
    "<class 'list'>\n",
    "139826827851200\n",
    "[1, 2, 3, 4, 5]\n",
    "['__add__', '__class__', '__class_getitem__', '__contains__', '__delattr__', '__delitem__', '__dir__', '__doc__', '__eq__', '__format__', '__ge__', '__getattribute__', '__getitem__', '__getstate__', '__gt__', '__hash__', '__iadd__', '__imul__', '__init__', '__init_subclass__', '__iter__', '__le__', '__len__', '__lt__', '__mul__', '__ne__', '__new__', '__reduce__', '__reduce_ex__', '__repr__', '__reversed__', '__rmul__', '__setattr__', '__setitem__', '__sizeof__', '__str__', '__subclasshook__', 'append', 'clear', 'copy', 'count', 'extend', 'index', 'insert', 'pop', 'remove', 'reverse', 'sort']\n",
    "<class 'list'>\n",
    "139826904221120\n",
    "['a', 'b', '3', '4', 'p']\n",
    "['__add__', '__class__', '__class_getitem__', '__contains__', '__delattr__', '__delitem__', '__dir__', '__doc__', '__eq__', '__format__', '__ge__', '__getattribute__', '__getitem__', '__getstate__', '__gt__', '__hash__', '__iadd__', '__imul__', '__init__', '__init_subclass__', '__iter__', '__le__', '__len__', '__lt__', '__mul__', '__ne__', '__new__', '__reduce__', '__reduce_ex__', '__repr__', '__reversed__', '__rmul__', '__setattr__', '__setitem__', '__sizeof__', '__str__', '__subclasshook__', 'append', 'clear', 'copy', 'count', 'extend', 'index', 'insert', 'pop', 'remove', 'reverse', 'sort']\n",
    "\n",
    "\n",
    "\n",
    "Good news! We found a bigger table for our dinner event.\n",
    "\n",
    "   ________ \n",
    "  | Dinner |\n",
    "  | Table  |\n",
    "  |________|\n",
    "\n",
    "Dear Isaac Newton,\n",
    "\n",
    "I hope this message finds you well. I am hosting a dinner event, and I would be honored if you could join us. Your presence would make the evening truly special.\n",
    "\n",
    "Please let me know if you can attend.\n",
    "\n",
    "Best regards, [Aqeel Shahzad]\n",
    "\n",
    "\n",
    "Dear Albert Einstein,\n",
    "\n",
    "I hope this message finds you well. I am hosting a dinner event, and I would be honored if you could join us. Your presence would make the evening truly special.\n",
    "\n",
    "Please let me know if you can attend.\n",
    "\n",
    "Best regards, [Aqeel Shahzad]\n",
    "\n",
    "\n",
    "Dear Leonardo da Vinci,\n",
    "\n",
    "I hope this message finds you well. I am hosting a dinner event, and I would be honored if you could join us. Your presence would make the evening truly special.\n",
    "\n",
    "Please let me know if you can attend.\n",
    "\n",
    "Best regards, [Aqeel Shahzad]\n",
    "\n",
    "\n",
    "Dear Marie Curie,\n",
    "\n",
    "I hope this message finds you well. I am hosting a dinner event, and I would be honored if you could join us. Your presence would make the evening truly special.\n",
    "\n",
    "Please let me know if you can attend.\n",
    "\n",
    "Best regards, [Aqeel Shahzad]\n",
    "\n",
    "\n",
    "Dear Nikola Tesla,\n",
    "\n",
    "I hope this message finds you well. I am hosting a dinner event, and I would be honored if you could join us. Your presence would make the evening truly special.\n",
    "\n",
    "Please let me know if you can attend.\n",
    "\n",
    "Best regards, [Aqeel Shahzad]\n",
    "\n",
    "\n",
    "Dear Missing,\n",
    "\n",
    "I hope this message finds you well. I am hosting a dinner event, and I would be honored if you could join us. Your presence would make the evening truly special.\n",
    "\n",
    "Please let me know if you can attend.\n",
    "\n",
    "Best regards, [Aqeel Shahzad]\n",
    "\n",
    "\n",
    "Dear Isaac Newton,\n",
    "\n",
    "I hope this message finds you well. I am hosting a dinner event, and I would be honored if you could join us. Your presence would make the evening truly special.\n",
    "\n",
    "Please let me know if you can attend.\n",
    "\n",
    "Best regards, [Aqeel Shahzad]\n",
    "\n",
    "\n",
    "Dear Nikola Tesla,\n",
    "\n",
    "I hope this message finds you well. I am hosting a dinner event, and I would be honored if you could join us. Your presence would make the evening truly special.\n",
    "\n",
    "Please let me know if you can attend.\n",
    "\n",
    "Best regards, [Aqeel Shahzad]\n",
    "\n",
    "\n",
    "Dear Galileo Galilei,\n",
    "\n",
    "I hope this message finds you well. I am hosting a dinner event, and I would be honored if you could join us. Your presence would make the evening truly special.\n",
    "\n",
    "Please let me know if you can attend.\n",
    "\n",
    "Best regards, [Aqeel Shahzad]\n",
    "\n",
    "\n",
    "Dear Galileo Galilei,\n",
    "\n",
    "I hope this message finds you well. I am hosting a dinner event, and I would be honored if you could join us. Your presence would make the evening truly special.\n",
    "\n",
    "Please let me know if you can attend.\n",
    "\n",
    "Best regards, [Aqeel Shahzad]\n",
    "\n",
    "\n",
    "Unfortunately, the new dinner table won't arrive in time, and we can only invite two people for dinner.\n",
    "\n",
    "Sorry, Galileo Galilei, we can't invite you to dinner this time.\n",
    "Sorry, Galileo Galilei, we can't invite you to dinner this time.\n",
    "Sorry, Nikola Tesla, we can't invite you to dinner this time.\n",
    "Sorry, Isaac Newton, we can't invite you to dinner this time.\n",
    "Sorry, Missing, we can't invite you to dinner this time.\n",
    "Sorry, Nikola Tesla, we can't invite you to dinner this time.\n",
    "Sorry, Marie Curie, we can't invite you to dinner this time.\n",
    "Sorry, Leonardo da Vinci, we can't invite you to dinner this time.\n",
    "You're still invited, Isaac Newton.\n",
    "You're still invited, Albert Einstein.\n",
    "Guest list after removing names: []\n",
    "As a special touch, there's a cozy fire:\n",
    "\n",
    "   ^   ^   ^   ^   ^   ^   ^   ^\n",
    "  / \\ / \\ / \\ / \\ / \\ / \\ / \\ / \\\n",
    " ( F | I | R | E |   | T | A | B )\n",
    "  \\_/ \\_/ \\_/ \\_/ \\_/ \\_/ \\_/ \\_/ \n",
    "   ^   ^   ^   ^   ^   ^   ^   ^\n",
    "\n",
    "    ```\n",
    "</details>"
   ]
  },
  {
   "cell_type": "markdown",
   "metadata": {},
   "source": [
    "#### Organizing a List"
   ]
  },
  {
   "cell_type": "markdown",
   "metadata": {},
   "source": [
    "* Sorting a List Permanently with the <b>sort()</b> Method "
   ]
  },
  {
   "cell_type": "code",
   "execution_count": 75,
   "metadata": {},
   "outputs": [
    {
     "name": "stdout",
     "output_type": "stream",
     "text": [
      "['audi', 'bmw', 'subaru', 'toyota']\n"
     ]
    }
   ],
   "source": [
    "cars = ['bmw', 'audi', 'toyota', 'subaru']\n",
    "cars.sort()\n",
    "print(cars)"
   ]
  },
  {
   "cell_type": "markdown",
   "metadata": {},
   "source": [
    "* Reverse-alphabetical order by passing the argument reverse=True to the <b>sort() </b> method."
   ]
  },
  {
   "cell_type": "code",
   "execution_count": 76,
   "metadata": {},
   "outputs": [
    {
     "name": "stdout",
     "output_type": "stream",
     "text": [
      "['toyota', 'subaru', 'bmw', 'audi']\n"
     ]
    }
   ],
   "source": [
    "cars = ['bmw', 'audi', 'toyota', 'subaru']\n",
    "cars.sort(reverse=True)\n",
    "print(cars)"
   ]
  },
  {
   "cell_type": "code",
   "execution_count": 77,
   "metadata": {},
   "outputs": [
    {
     "name": "stdout",
     "output_type": "stream",
     "text": [
      "Here is the original list:\n",
      "['toyota', 'subaru', 'bmw', 'audi']\n",
      "\n",
      "Here is the sorted list:\n",
      "['audi', 'bmw', 'subaru', 'toyota']\n",
      "\n",
      "Here is the original list again:\n",
      "['toyota', 'subaru', 'bmw', 'audi']\n"
     ]
    }
   ],
   "source": [
    "print(\"Here is the original list:\")\n",
    "print(cars)\n",
    "\n",
    "print(\"\\nHere is the sorted list:\")\n",
    "print(sorted(cars))\n",
    "\n",
    "print(\"\\nHere is the original list again:\")\n",
    "print(cars)"
   ]
  },
  {
   "cell_type": "code",
   "execution_count": 78,
   "metadata": {},
   "outputs": [
    {
     "name": "stdout",
     "output_type": "stream",
     "text": [
      "Here is the original list:\n",
      "['toyota', 'subaru', 'bmw', 'audi']\n",
      "\n",
      "Here is the reverse list:\n",
      "None\n",
      "\n",
      "Here is the length list\n",
      "4\n"
     ]
    }
   ],
   "source": [
    "cars = ['toyota', 'subaru', 'bmw', 'audi']\n",
    "print(\"Here is the original list:\")\n",
    "print(cars)\n",
    "\n",
    "print(\"\\nHere is the reverse list:\")\n",
    "rList = cars.reverse()\n",
    "print(rList)\n",
    "\n",
    "print(\"\\nHere is the length list\")\n",
    "print(len(cars))"
   ]
  },
  {
   "cell_type": "markdown",
   "metadata": {},
   "source": [
    "<div style=\"text-align: center;\">\n",
    "  <b>TRY IT YOURSELF</b>\n",
    "  <p>Challenge</p>\n",
    "</div>\n"
   ]
  },
  {
   "cell_type": "code",
   "execution_count": 79,
   "metadata": {},
   "outputs": [
    {
     "name": "stdout",
     "output_type": "stream",
     "text": [
      "Original order: ['Paris', 'Tokyo', 'New York', 'Sydney', 'Venice']\n",
      "Alphabetical order: ['New York', 'Paris', 'Sydney', 'Tokyo', 'Venice']\n",
      "Original order: ['Paris', 'Tokyo', 'New York', 'Sydney', 'Venice']\n",
      "Reverse-alphabetical order: ['Venice', 'Tokyo', 'Sydney', 'Paris', 'New York']\n",
      "Original order: ['Paris', 'Tokyo', 'New York', 'Sydney', 'Venice']\n",
      "Reversed order: ['Venice', 'Sydney', 'New York', 'Tokyo', 'Paris']\n",
      "Original order: ['Paris', 'Tokyo', 'New York', 'Sydney', 'Venice']\n",
      "Alphabetical order (modified): ['New York', 'Paris', 'Sydney', 'Tokyo', 'Venice']\n",
      "Reverse-alphabetical order (modified): ['Venice', 'Tokyo', 'Sydney', 'Paris', 'New York']\n",
      "\n",
      "Number of people invited to dinner: 5\n",
      "\n",
      "Languages List: ['English', 'Spanish', 'German', 'Japanese', 'Mandarin']\n",
      "Removed language: Russian\n",
      "Index of 'German': 2\n",
      "Count of 'Spanish': 1\n"
     ]
    }
   ],
   "source": [
    "# Exercise 3-8: Seeing the World\n",
    "places_to_visit = [\"Paris\", \"Tokyo\", \"New York\", \"Sydney\", \"Venice\"]\n",
    "\n",
    "# Original order\n",
    "print(\"Original order:\", places_to_visit)\n",
    "\n",
    "# Sorted in alphabetical order without modifying the original list\n",
    "print(\"Alphabetical order:\", sorted(places_to_visit))\n",
    "\n",
    "# Original order still intact\n",
    "print(\"Original order:\", places_to_visit)\n",
    "\n",
    "# Sorted in reverse-alphabetical order without modifying the original list\n",
    "print(\"Reverse-alphabetical order:\", sorted(places_to_visit, reverse=True))\n",
    "\n",
    "# Original order still intact\n",
    "print(\"Original order:\", places_to_visit)\n",
    "\n",
    "# Change the order with reverse()\n",
    "places_to_visit.reverse()\n",
    "print(\"Reversed order:\", places_to_visit)\n",
    "\n",
    "# Change the order back with reverse()\n",
    "places_to_visit.reverse()\n",
    "print(\"Original order:\", places_to_visit)\n",
    "\n",
    "# Sort in alphabetical order with sort()\n",
    "places_to_visit.sort()\n",
    "print(\"Alphabetical order (modified):\", places_to_visit)\n",
    "\n",
    "# Sort in reverse-alphabetical order with sort()\n",
    "places_to_visit.sort(reverse=True)\n",
    "print(\"Reverse-alphabetical order (modified):\", places_to_visit)\n",
    "\n",
    "# Exercise 3-9: Dinner Guests\n",
    "num_guests = len(places_to_visit)\n",
    "print(\"\\nNumber of people invited to dinner:\", num_guests)\n",
    "\n",
    "# Exercise 3-10: Every Function\n",
    "# Let's demonstrate some other list functions\n",
    "languages = [\"English\", \"Spanish\", \"French\", \"German\", \"Japanese\"]\n",
    "\n",
    "# Appending an item\n",
    "languages.append(\"Mandarin\")\n",
    "\n",
    "# Inserting an item\n",
    "languages.insert(3, \"Russian\")\n",
    "\n",
    "# Removing an item\n",
    "languages.remove(\"French\")\n",
    "\n",
    "# Popping an item\n",
    "removed_language = languages.pop(2)\n",
    "\n",
    "# Finding the index of an item\n",
    "index = languages.index(\"German\")\n",
    "\n",
    "# Counting occurrences\n",
    "count = languages.count(\"Spanish\")\n",
    "\n",
    "print(\"\\nLanguages List:\", languages)\n",
    "print(\"Removed language:\", removed_language)\n",
    "print(\"Index of 'German':\", index)\n",
    "print(\"Count of 'Spanish':\", count)\n"
   ]
  },
  {
   "cell_type": "code",
   "execution_count": 80,
   "metadata": {},
   "outputs": [
    {
     "name": "stdout",
     "output_type": "stream",
     "text": [
      "<class 'str'>\n",
      "line1     line2     line 3\n"
     ]
    }
   ],
   "source": [
    "b : str = 'line1 \\\n",
    "    line2 \\\n",
    "    line 3'\n",
    "\n",
    "print(type(b))\n",
    "print(b)"
   ]
  },
  {
   "cell_type": "code",
   "execution_count": 81,
   "metadata": {},
   "outputs": [
    {
     "name": "stdout",
     "output_type": "stream",
     "text": [
      "<class 'str'>\n",
      "line 1\n",
      "line 2\n",
      "line 3\n",
      "\n"
     ]
    }
   ],
   "source": [
    "b : str = \"\"\"line 1\n",
    "line 2\n",
    "line 3\n",
    "\"\"\"\n",
    "print(type(b))\n",
    "print(b)"
   ]
  },
  {
   "cell_type": "markdown",
   "metadata": {},
   "source": [
    "##### Concatination"
   ]
  },
  {
   "cell_type": "code",
   "execution_count": 82,
   "metadata": {},
   "outputs": [
    {
     "ename": "TypeError",
     "evalue": "can only concatenate str (not \"int\") to str",
     "output_type": "error",
     "traceback": [
      "\u001b[0;31m---------------------------------------------------------------------------\u001b[0m",
      "\u001b[0;31mTypeError\u001b[0m                                 Traceback (most recent call last)",
      "\u001b[1;32m/home/shahzad/Documents/GitHub/WMD-Q3-learning/step22_generative_ai/python-course/workshops-chp-1-2-3.ipynb Cell 86\u001b[0m line \u001b[0;36m6\n\u001b[1;32m      <a href='vscode-notebook-cell:/home/shahzad/Documents/GitHub/WMD-Q3-learning/step22_generative_ai/python-course/workshops-chp-1-2-3.ipynb#Y151sZmlsZQ%3D%3D?line=2'>3</a>\u001b[0m age : \u001b[39mint\u001b[39m \u001b[39m=\u001b[39m \u001b[39m25\u001b[39m\n\u001b[1;32m      <a href='vscode-notebook-cell:/home/shahzad/Documents/GitHub/WMD-Q3-learning/step22_generative_ai/python-course/workshops-chp-1-2-3.ipynb#Y151sZmlsZQ%3D%3D?line=3'>4</a>\u001b[0m edu : \u001b[39mstr\u001b[39m \u001b[39m=\u001b[39m \u001b[39m'\u001b[39m\u001b[39mBSCS\u001b[39m\u001b[39m'\u001b[39m\n\u001b[0;32m----> <a href='vscode-notebook-cell:/home/shahzad/Documents/GitHub/WMD-Q3-learning/step22_generative_ai/python-course/workshops-chp-1-2-3.ipynb#Y151sZmlsZQ%3D%3D?line=5'>6</a>\u001b[0m card : \u001b[39mstr\u001b[39m \u001b[39m=\u001b[39m \u001b[39m\"\u001b[39;49m\u001b[39mPIAIC Student card\u001b[39;49m\u001b[39m\\n\u001b[39;49;00m\u001b[39m Student Name:\u001b[39;49m\u001b[39m\\t\u001b[39;49;00m\u001b[39m\"\u001b[39;49m\u001b[39m+\u001b[39;49mname\u001b[39m+\u001b[39;49m\u001b[39m\"\u001b[39;49m\u001b[39m\\n\u001b[39;49;00m\u001b[39mFather\u001b[39;49m\u001b[39m'\u001b[39;49m\u001b[39ms Name:\u001b[39;49m\u001b[39m\\t\u001b[39;49;00m\u001b[39m\"\u001b[39;49m\u001b[39m+\u001b[39;49mfname\u001b[39m+\u001b[39;49m\u001b[39m\"\u001b[39;49m\u001b[39m\\n\u001b[39;49;00m\u001b[39mAge:\u001b[39;49m\u001b[39m\\t\u001b[39;49;00m\u001b[39m\"\u001b[39;49m\u001b[39m+\u001b[39;49mage\n\u001b[1;32m      <a href='vscode-notebook-cell:/home/shahzad/Documents/GitHub/WMD-Q3-learning/step22_generative_ai/python-course/workshops-chp-1-2-3.ipynb#Y151sZmlsZQ%3D%3D?line=7'>8</a>\u001b[0m \u001b[39mprint\u001b[39m(card)\n",
      "\u001b[0;31mTypeError\u001b[0m: can only concatenate str (not \"int\") to str"
     ]
    }
   ],
   "source": [
    "name : str = \"Aqeel\"\n",
    "fname : str = \"Jafir\"\n",
    "age : int = 25\n",
    "edu : str = 'BSCS'\n",
    "\n",
    "card : str = \"PIAIC Student card\\n Student Name:\\t\"+name+\"\\nFather's Name:\\t\"+fname+\"\\nAge:\\t\"+age\n",
    "\n",
    "print(card)"
   ]
  },
  {
   "cell_type": "code",
   "execution_count": null,
   "metadata": {},
   "outputs": [
    {
     "name": "stdout",
     "output_type": "stream",
     "text": [
      "PIAIC Student card\n",
      " Student Name:\tAqeel\n",
      "Father's Name:\tShahzad\n",
      "Age:\t25\n"
     ]
    }
   ],
   "source": [
    "name : str = \"Aqeel\"\n",
    "fname : str = \"Shahzad\"\n",
    "age : int = 25\n",
    "edu : str = 'BSCS'\n",
    "\n",
    "card : str = \"PIAIC Student card\\n Student Name:\\t\"+name+\"\\nFather's Name:\\t\"+fname+\"\\nAge:\\t\"+str(age)\n",
    "\n",
    "print(card)"
   ]
  },
  {
   "cell_type": "markdown",
   "metadata": {},
   "source": [
    "* <b>using FString</b>"
   ]
  },
  {
   "cell_type": "code",
   "execution_count": null,
   "metadata": {},
   "outputs": [
    {
     "name": "stdout",
     "output_type": "stream",
     "text": [
      "\n",
      "PIAIC Student Card\n",
      "Student Name:\t{name}\n",
      "\n"
     ]
    }
   ],
   "source": [
    "name : str =\"Aqeel\"\n",
    "fname : str = \"Jafir\"\n",
    "age :int= 26\n",
    "edu :str =\"BSCS\"\n",
    "\n",
    "card :str = \"\"\"\n",
    "PIAIC Student Card\n",
    "Student Name:\\t{name}\n",
    "\"\"\"\n",
    "\n",
    "print(card)"
   ]
  },
  {
   "cell_type": "code",
   "execution_count": null,
   "metadata": {},
   "outputs": [
    {
     "name": "stdout",
     "output_type": "stream",
     "text": [
      "\n",
      "PIAIC Student Card\n",
      "Student Name:\tAqeel\n",
      "Student Fname:\tJafir\n",
      "Student Age:\t26\n",
      "Student Education:\tBSCS\n",
      "\n"
     ]
    }
   ],
   "source": [
    "name : str =\"Aqeel\"\n",
    "fname : str = \"Jafir\"\n",
    "age :int= 26\n",
    "edu :str =\"BSCS\"\n",
    "\n",
    "card :str = f\"\"\"\n",
    "PIAIC Student Card\n",
    "Student Name:\\t{name}\n",
    "Student Fname:\\t{fname}\n",
    "Student Age:\\t{age}\n",
    "Student Education:\\t{edu}\n",
    "\"\"\"\n",
    "\n",
    "print(card)"
   ]
  },
  {
   "cell_type": "code",
   "execution_count": null,
   "metadata": {},
   "outputs": [
    {
     "name": "stdout",
     "output_type": "stream",
     "text": [
      "\n",
      "PIAIC Student Card\n",
      "Student Name:\tAqeel\n",
      "Student Fname:\tJafir\n",
      "Student Age:\t26\n",
      "Student Education:\tBSCS\n",
      "\n"
     ]
    }
   ],
   "source": [
    "name : str =\"Aqeel\"\n",
    "fname : str = \"Jafir\"\n",
    "age :int= 26\n",
    "edu :str =\"BSCS\"\n",
    "\n",
    "card :str = \"\"\"\n",
    "PIAIC Student Card\n",
    "Student Name:\\t{}\n",
    "Student Fname:\\t{}\n",
    "Student Age:\\t{}\n",
    "Student Education:\\t{}\n",
    "\"\"\".format(name,fname,age,edu)\n",
    "\n",
    "print(card)"
   ]
  },
  {
   "cell_type": "code",
   "execution_count": null,
   "metadata": {},
   "outputs": [
    {
     "name": "stdout",
     "output_type": "stream",
     "text": [
      "\n",
      "PIAIC Student Card\n",
      "Student Name:\tBSCS\n",
      "Student Fname:\tAqeel\n",
      "Student Age:\tJafir\n",
      "Student Education:\t26\n",
      "\n"
     ]
    }
   ],
   "source": [
    "name : str =\"Aqeel\"\n",
    "fname : str = \"Jafir\"\n",
    "age :int= 26\n",
    "edu :str =\"BSCS\"\n",
    "\n",
    "card :str = \"\"\"\n",
    "PIAIC Student Card\n",
    "Student Name:\\t{}\n",
    "Student Fname:\\t{}\n",
    "Student Age:\\t{}\n",
    "Student Education:\\t{}\n",
    "\"\"\".format(edu,name,fname,age)\n",
    "\n",
    "print(card)"
   ]
  },
  {
   "cell_type": "code",
   "execution_count": null,
   "metadata": {},
   "outputs": [
    {
     "name": "stdout",
     "output_type": "stream",
     "text": [
      "\n",
      "PIAIC Student Card\n",
      "Student Name:\tAqeel\n",
      "Student Fname:\tJafir\n",
      "Student Age:\t26\n",
      "Student Education:\tBSCS\n",
      "\n"
     ]
    }
   ],
   "source": [
    "name : str =\"Aqeel\"\n",
    "fname : str = \"Jafir\"\n",
    "age :int= 26\n",
    "edu :str =\"BSCS\"\n",
    "\n",
    "card :str = \"\"\"\n",
    "PIAIC Student Card\n",
    "Student Name:\\t{1}\n",
    "Student Fname:\\t{2}\n",
    "Student Age:\\t{3}\n",
    "Student Education:\\t{0}\n",
    "\"\"\".format(edu,name,fname,age)\n",
    "\n",
    "print(card)"
   ]
  },
  {
   "cell_type": "code",
   "execution_count": null,
   "metadata": {},
   "outputs": [
    {
     "name": "stdout",
     "output_type": "stream",
     "text": [
      "\n",
      "PIAIC Student Card\n",
      "Student Name:\tAqeel\n",
      "Student Fname:\tJafir\n",
      "Student Age:\t26\n",
      "Student Education:\tBSCS\n",
      "\n"
     ]
    }
   ],
   "source": [
    "#Recommended Method\n",
    "name : str =\"Aqeel\"\n",
    "fname : str = \"Jafir\"\n",
    "age :int= 26\n",
    "edu :str =\"BSCS\"\n",
    "\n",
    "card :str = \"\"\"\n",
    "PIAIC Student Card\n",
    "Student Name:\\t{b}\n",
    "Student Fname:\\t{c}\n",
    "Student Age:\\t{d}\n",
    "Student Education:\\t{a}\n",
    "\"\"\".format(a=edu,b=name,c=fname,d=age)\n",
    "\n",
    "print(card)"
   ]
  },
  {
   "cell_type": "code",
   "execution_count": null,
   "metadata": {},
   "outputs": [
    {
     "name": "stdout",
     "output_type": "stream",
     "text": [
      "\n",
      "PIAIC Student Card\n",
      "Student Name:\tBSCS\n",
      "Student Fname:\tAqeel\n",
      "Student Age:\tJafir\n",
      "Student Education:\t26\n",
      "\n"
     ]
    }
   ],
   "source": [
    "# Old style , C convention\n",
    "\n",
    "name : str =\"Aqeel\"\n",
    "fname : str = \"Jafir\"\n",
    "age :int= 26\n",
    "edu :str =\"BSCS\"\n",
    "\n",
    "card :str = \"\"\"\n",
    "PIAIC Student Card\n",
    "Student Name:\\t%s\n",
    "Student Fname:\\t%s\n",
    "Student Age:\\t%s\n",
    "Student Education:\\t%s\n",
    "\"\"\"%(edu,name,fname,age)\n",
    "\n",
    "print(card)"
   ]
  },
  {
   "cell_type": "code",
   "execution_count": null,
   "metadata": {},
   "outputs": [
    {
     "name": "stdout",
     "output_type": "stream",
     "text": [
      "\n",
      "    PIAIC Student Card\n",
      "    Student Name:\tAqeel\n",
      "    Student Fname:\tJafir\n",
      "    Student Age:\t26\n",
      "    Student Education:\tBSCS\n",
      "    Total : \t30.0\n",
      "\n"
     ]
    }
   ],
   "source": [
    "name : str =\"Aqeel\"\n",
    "fname : str = \"Jafir\"\n",
    "age :int= 26\n",
    "edu :str =\"BSCS\"\n",
    "\n",
    "card :str = f\"\"\"\n",
    "    PIAIC Student Card\n",
    "    Student Name:\\t{name}\n",
    "    Student Fname:\\t{fname}\n",
    "    Student Age:\\t{age}\n",
    "    Student Education:\\t{edu}\n",
    "    Total : \\t{10 + 30 /3 * 2}\n",
    "\"\"\"\n",
    "\n",
    "print(card)"
   ]
  },
  {
   "cell_type": "code",
   "execution_count": 89,
   "metadata": {},
   "outputs": [
    {
     "name": "stdout",
     "output_type": "stream",
     "text": [
      "['PIAIC55500', 'PIAIC33944', 'PIAIC33332', 'PIAIC-355442', 'PIAIC-35544']\n"
     ]
    }
   ],
   "source": [
    "import re\n",
    "\n",
    "row = \"\"\"PIAIC55500, PIAIC33944,\n",
    "We want to remove this prefix, so we can focus on just the part of the URL that users need to enter into an address bar PIAIC-34. Here's how to do that:\n",
    "PIAIC33332, Here are some more roll numbers: PIAIC-35544287327782, PIAIC-35544,\"\"\"\n",
    "\n",
    "rollnumbers = re.findall(r\"PIAIC-?\\d{5,6}\", row) # \"PIAIC-?\\d{5,6}\"\n",
    "print(rollnumbers)\n"
   ]
  },
  {
   "cell_type": "code",
   "execution_count": 94,
   "metadata": {},
   "outputs": [],
   "source": [
    "import pandas as pd\n",
    "df = pd.DataFrame({'Roll number':rollnumbers})"
   ]
  },
  {
   "cell_type": "code",
   "execution_count": 95,
   "metadata": {},
   "outputs": [
    {
     "data": {
      "text/html": [
       "<div>\n",
       "<style scoped>\n",
       "    .dataframe tbody tr th:only-of-type {\n",
       "        vertical-align: middle;\n",
       "    }\n",
       "\n",
       "    .dataframe tbody tr th {\n",
       "        vertical-align: top;\n",
       "    }\n",
       "\n",
       "    .dataframe thead th {\n",
       "        text-align: right;\n",
       "    }\n",
       "</style>\n",
       "<table border=\"1\" class=\"dataframe\">\n",
       "  <thead>\n",
       "    <tr style=\"text-align: right;\">\n",
       "      <th></th>\n",
       "      <th>Roll number</th>\n",
       "    </tr>\n",
       "  </thead>\n",
       "  <tbody>\n",
       "    <tr>\n",
       "      <th>0</th>\n",
       "      <td>PIAIC55500</td>\n",
       "    </tr>\n",
       "    <tr>\n",
       "      <th>1</th>\n",
       "      <td>PIAIC33944</td>\n",
       "    </tr>\n",
       "    <tr>\n",
       "      <th>2</th>\n",
       "      <td>PIAIC33332</td>\n",
       "    </tr>\n",
       "    <tr>\n",
       "      <th>3</th>\n",
       "      <td>PIAIC-355442</td>\n",
       "    </tr>\n",
       "    <tr>\n",
       "      <th>4</th>\n",
       "      <td>PIAIC-35544</td>\n",
       "    </tr>\n",
       "  </tbody>\n",
       "</table>\n",
       "</div>"
      ],
      "text/plain": [
       "    Roll number\n",
       "0    PIAIC55500\n",
       "1    PIAIC33944\n",
       "2    PIAIC33332\n",
       "3  PIAIC-355442\n",
       "4   PIAIC-35544"
      ]
     },
     "execution_count": 95,
     "metadata": {},
     "output_type": "execute_result"
    }
   ],
   "source": [
    "df"
   ]
  },
  {
   "cell_type": "code",
   "execution_count": 97,
   "metadata": {},
   "outputs": [],
   "source": [
    "chatData :str =\"\"\"09:02:45 From Muhammad Sadullah = PIAIC-178950 To Everyone : Assalam O Alikum\n",
    "09:03:06 From PIAIC188523 - Subhan Ahmed To Everyone : waalikum assalam\n",
    "09:03:24 From Kashif To Everyone : Kashif - PIAIC181638\n",
    "09:03:36 From Syed Jawad [PIAIC185558] To Everyone : wa alikum assalam\n",
    "09:03:52 From Muhammad Sadullah = PIAIC-178950 To Everyone : Muhammad Sadullah = PIAIC-178950\n",
    "09:04:18 From Shahzaib To Everyone : sir assalam o alikum sir ya mari 3 class ha . jo class miss h gai ha wo kasa lo\n",
    "09:04:32 From ABDUL BASIT To Everyone : ABDUL BASIT PIAIC 59115\n",
    "09:04:38 From PIAIC183349 Muahhamd Waseem To Everyone : sir blockstructure sy start krna hy sir\n",
    "09:05:02 From Mohammad Javed To Everyone : Mohammad Javed\n",
    "PIAIC 185754\n",
    "09:05:06 From Humera Naz To Everyone : PIAIC 173431\n",
    "09:05:07 From Muhammad Saad To Everyone : Muhammad Saad - PIAIC172478\n",
    "09:05:21 From Sabir Zafar To Everyone : Muhammad Sabir Zafar PIAIC182023\n",
    "09:05:29 From Shahzaib To Everyone : Muhammad Shahzaib Iqbal\n",
    "09:05:34 From Sabir Zafar To Everyone : PIAIC182023\n",
    "09:05:37 From Mohammad Javed To Everyone : Assalamo Alykum to everyone\n",
    "09:06:04 From Shahzaib To Everyone : sir ya ap kia para raha ha\n",
    "09:06:10 From Usman Noor PIAIC-188401 To Everyone : Usman Noor PIAIC-188401\n",
    "09:06:31 From Amir Rashid To Everyone : aoa sir jee\n",
    "09:06:41 From Salman Nayyer To Everyone : PIAIC 180996\n",
    "09:06:42 From Usman Noor PIAIC-188401 To Everyone : yes\n",
    "09:06:44 From Moattar Khanum (PIAIC170982) To Everyone : Moattar Khanum - PIAIC170982\n",
    "09:07:06 From MUHAMMAD USMAN MANZOOR To Everyone : Muhammad Usman Manzoor128778\n",
    "09:07:56 From Syed Jawad [PIAIC185558] To Everyone : distortion ari h voice me\n",
    "09:08:03 From Zeeshan Asim : PIAIC55300 To Everyone : Zeeshan Asim Khan, PIAIC55300\n",
    "09:08:15 From Syed Jawad [PIAIC185558] To Everyone : loop\n",
    "09:08:32 From Kainat PIAIC182352 To Everyone : piaic 182352\n",
    "09:09:07 From Syed Jawad [PIAIC185558] To Everyone : PIAIC185558\n",
    "09:09:12 From Amir Rashid To Everyone : PIAIC107890\n",
    "09:09:15 From Victor PIAIC 177535 To Everyone : PIAIC 177535\n",
    "09:09:46 From Nasir Hussain (Faculty) To Everyone : https://www.youtube.com/watch?v=PNRVcBu2xE8&list=PLbz7HMwTUM0He95be_rlxc8GyDbek6xUu\n",
    "09:09:46 From Shoaib PIAIC-178354 To Everyone : Shoaib PIAIC178354\n",
    "09:10:07 From Muhammad Faizan PIAIC189427 To Everyone : PIAIC189427\n",
    "09:10:53 From Shoaib To Everyone : Muhammad Shoaib PIAIC130669\n",
    "09:13:14 From PIAIC183349 Muahhamd Waseem To Everyone : yes sir\n",
    "09:14:13 From Irtiza Khan [PIAIC 171375] To Everyone : Salam to all\n",
    "09:16:15 From PIAIC175331 To Everyone : PIAIC175331\n",
    "09:16:24 From Gulshan Ali To Everyone : Gulshan Ali PIAIC-176719\n",
    "09:16:34 From Sabir Zafar To Everyone : only youtube pay hy last lecture\n",
    "09:16:34 From Gulshan Ali To Everyone : PIAIC176719\n",
    "09:16:57 From Moeed Masood PIAIC185253 To Everyone : https://www.youtube.com/watch?v=XgRbgGQvGRk\n",
    "09:17:03 From Agha Ali PIAIC164763 To Everyone : PIAIC164763\n",
    "09:17:03 From Moeed Masood PIAIC185253 To Everyone : last lecture link\n",
    "09:17:14 From Ali Muawia To Everyone : PIAIC171658\n",
    "09:17:52 From Muhammed Shahid To Everyone : PIAIC134239 Muhammed Shahid\n",
    "09:18:55 From Sadia To Everyone : piaic180028\n",
    "09:19:14 From Abdul Saboor Zaman PIAIC189261 To Everyone : Abdul Saboor Zaman PIAIC189261\n",
    "09:19:15 From Abdullah Arif 129260 To Everyone : Abdullah Arif - PIAIC - 129260\n",
    "09:19:36 From Muhammad Athar PIAIC 174016 To Everyone : PIAIC 174016\n",
    "09:19:56 From Adnan Ul Haq (PIAIC-103786) To Everyone : Adnan Ul Haq (PIAIC-103786)\n",
    "09:20:38 From vivo 1901 To Everyone : PIAIC74287-Atif Aziz\n",
    "09:20:59 From Moeed Masood PIAIC185253 To Everyone : https://www.youtube.com/watch?v=e1OjskX1C6E&t=1098s\n",
    "09:21:05 From Moeed Masood PIAIC185253 To Everyone : last lecture link\n",
    "09:21:27 From PIAIC183349 Muahhamd Waseem To Everyone : yes sir\n",
    "09:21:33 From Home To Everyone : PIAIC172998\n",
    "09:22:02 From Home To Everyone : Muhammad Hammad PIAIC172998\n",
    "09:23:06 From Samina - PIAIC52499 To Everyone : Samina Anees - PIAIC52499\n",
    "09:23:11 From (PIAIC-189416) Muhammad Murtaza Khan To Everyone : Muhammad Murtaza Khan - PIAIC189416\n",
    "09:23:43 From Muhammad Farhan Ahsan PIAIC-168894 To Everyone : Muhammad Farhan Ahsan PIAIC-168894\n",
    "09:23:49 From Irtiza Khan [PIAIC 171375] To Everyone : PIAIC171375\n",
    "09:24:00 From Amna Liaqat PIAIC 133452 To Everyone : Amna Liaqat (PIAIC133452)\n",
    "09:24:01 From Ali Muawia To Everyone : PIAIC171658\n",
    "09:25:09 From Muhammad Naveed PIAIC133985 To Everyone : Muhammad Naveed PIAIC133985\n",
    "09:26:02 From Amir Rashid To Everyone : Amir Rashid PIAIC107890\n",
    "09:26:16 From Aneeq To Everyone : PIAIC172924 Aneeq Ahmad\n",
    "09:26:36 From kashif.parvez To Everyone : PIAIC101207 kashif\n",
    "09:27:14 From Rehman To Everyone : Abu Bakar PIAIC173652\n",
    "09:30:32 From Muhammad Adrees To Everyone : PIAIC74182\n",
    "09:32:20 From Salma Asif To Everyone : PIAIC176945\n",
    "09:33:05 From Zaki@PIAIC172541 To Everyone : PIAIC172541 Zaki\n",
    "09:33:37 From Khushbakht Hassan To Everyone : PIAIC180280\n",
    "09:33:55 From Yumna Fawad Moon To Everyone : PIAIC188727\n",
    "09:34:04 From Abdul Rafiu To Everyone : Abdul Rafiu PIAIC164489\n",
    "09:34:15 From Syed PIAIC168703 To Everyone : PIAIC 168703\n",
    "09:36:03 From Nadeem ali Jamro PIAIC166522 To Everyone : PIAIC 166522\n",
    "09:37:13 From Mohsin Naseer PIAIC68513 To Everyone : PIAIC68513\n",
    "09:37:41 From Syed Jawad [PIAIC185558] To Everyone : +=/++\n",
    "09:37:57 From Irfan Ahmed To Everyone : PIAIC172147\n",
    "09:38:12 From Syed Jawad [PIAIC185558] To Everyone : PIAIC 185558\n",
    "09:38:38 From Syed Jawad [PIAIC185558] To Everyone : no\n",
    "09:39:18 From Saeed To Everyone : PIAIC-131885\n",
    "09:44:14 From Muhammad’s iPhone To Everyone : Sorry sir i was praying fajr\n",
    "09:45:55 From PIAIC175139 naeem khan To Everyone : Is fajr time altered? 😏\n",
    "09:46:42 From Irtiza Khan [PIAIC 171375] To Everyone : Kaza bhe parhe ja sakte hay khan sb\n",
    "09:50:31 From Amir Rashid To Everyone : 0 - 255\n",
    "09:59:02 From Afnan 182978 To Everyone : Chalo Bhai😂\n",
    "10:00:41 From PIAIC175139 naeem khan To Everyone : barat aa gaye khana khul gaya\n",
    "10:07:43 From Syed Jawad [PIAIC185558] To Everyone : https://www.hackerrank.com/domains/python\n",
    "10:07:47 From Syed Jawad [PIAIC185558] To Everyone : for practic\n",
    "10:08:05 From Syed Jawad [PIAIC185558] To Everyone : practice*\n",
    "10:08:37 From Muhammad Mehroz To Everyone : attendance nahi hoi na abhe!\n",
    "10:08:50 From mehdi abbas To Everyone : nahi\n",
    "10:09:02 From waqas khan To Everyone : waqas khan PIAIC-185394\n",
    "10:09:32 From M Ali Asif Khan - PIAIC-57947 To Everyone : M Ali Asif Khan - PIAIC-57947\n",
    "10:09:40 From PIAIC173701_Taqwa Khaliq To Everyone : PIAIC173701 Taqwa Khaliq\n",
    "10:10:09 From PIAIC188523 To Everyone : PIAIC188523\n",
    "10:10:17 From Amir Rashid To Everyone : sorry\n",
    "10:10:31 From Muhammad’s iPhone To Everyone : PIAIC49583 Muhammad ali\n",
    "10:10:48 From Moeed Masood PIAIC185253 To Everyone : Moeed Masood PIAIC-185253\n",
    "10:11:34 From Noman Ali PIAIC 180111 To Everyone : PIAIC180111\n",
    "10:12:53 From Daud To Everyone : sooo sad\n",
    "10:13:03 From اسامه سلفى PIAIC91925 To Everyone : Usama Salafi PIAIC91925\n",
    "10:13:09 From Samsung SM-A325F To Everyone : PIAIC178248\n",
    "10:13:10 From PIAIC 175167 To Everyone : PIAIC 175167\n",
    "10:13:19 From Farhan-PIAIC186218 To Everyone : Farhan PIAIC186218\n",
    "10:13:24 From Muhammad Mehroz To Everyone : PIAIC131496\n",
    "10:13:27 From Aahil Khowaja PIAIC 175761 BATCH 36 To Everyone : PIAIC 175761\n",
    "10:13:29 From Maaz-PIAIC182239 To Everyone : PIAIC182239\n",
    "10:13:32 From Syed Sajjad Hussain PIAIC152592 To Everyone : Syed sajjad Hussain PIAIC152592\n",
    "10:13:36 From Muhammad Arslan PIAIC183812 To Everyone : PIAIC 183812\n",
    "10:13:38 From 133544-Matee To Everyone : PIAIC 133544 Matee\n",
    "10:13:44 From Saad Aslam To Everyone : Saad Aslam PIAIC1878\n",
    "10:13:49 From Bilal Chaudhry(PIAIC176168) To Everyone : PIAIC176168\n",
    "10:13:50 From Amna Liaqat PIAIC 133452 To Everyone : Amna Liaqat PIAIC133452\n",
    "10:13:54 From Syed Amir PIAIC128409 To Everyone : Syed Amir Rehman PIAIC128409\n",
    "10:13:55 From Amna Liaqat PIAIC 133452 To Everyone : PIAIC 133452\n",
    "10:13:56 From Mashal Zahra To Everyone : PIAIC178751\n",
    "10:14:01 From Asim sharif(PIAIC172797) To Everyone : PIAIC 172797\n",
    "10:14:01 From M. ADNAN SAEED PIAIC174751 To Everyone : PIAIC174751\n",
    "10:14:03 From 185099 Murtaza To Everyone : PIAIC 185099\n",
    "10:14:03 From SadafMansoor 84989 To Everyone : PIAIC84989\n",
    "10:14:14 From Saad Aslam To Everyone : Saad Aslam PIAIC187831\n",
    "10:14:57 From Kabeer Alam (132619) To Everyone : PIAIC132619\n",
    "10:15:11 From Ayesha Qamar To Everyone : PIAIC185674\n",
    "10:15:28 From Naeem Sultan - 116704 To Everyone : PIAIC 116704\n",
    "10:15:33 From Shazia Mushtaq To Everyone : PIAIC176880\n",
    "10:15:52 From LENOVO To Everyone : PIAIC151960\n",
    "10:17:30 From Maha Ilyas 2874 To Everyone : PIAIC 177982\n",
    "10:17:49 From Ali Raza To Everyone : PIAIC 62922\n",
    "10:18:33 From Nehal To Everyone : PIAIC182641\n",
    "10:18:46 From Muhammad Saad To Everyone : PIAIC172478\n",
    "10:18:49 From Syed Jawad [PIAIC185558] To Everyone : PIAIC185558\n",
    "10:18:49 From SafeerAhmad 139339 To Everyone : SafeerAhmad-PIAIC139339\n",
    "10:19:01 From SafeerAhmad 139339 To Everyone : PIAIC139339\n",
    "10:19:15 From Kabeer Rajput To Everyone : attendance hogai?\n",
    "10:19:35 From Owais Khattak To Everyone : PIAIC139392\n",
    "10:19:40 From Musa Abkr To Everyone : PIAIC116498\n",
    "10:19:54 From Imran Ahmed To Everyone : Imran Ahmed PIAIC95846\n",
    "10:21:03 From fozia shareen To Everyone : PIAIC 165097 FOZIA\n",
    "10:22:16 From Aisha Siddiqua To Everyone : PIAIC181221\n",
    "10:22:49 From Maha Zia To Everyone : Maha Zia piaic172238\n",
    "10:24:12 From Ureb Ahmad To Everyone : PIAIC-172235\n",
    "10:25:10 From Umer Ghaffar PIAIC184298 To Everyone : PIAIC184298\n",
    "10:27:01 From PIAIC 174016 To Everyone : PIAIC 174016\n",
    "10:27:07 From PIAIC 174016 To Everyone : present\n",
    "10:28:41 From Syed Jawad [PIAIC185558] To Everyone : g\n",
    "10:31:06 From Afnan 182978 To Everyone : PIAIC 182978\n",
    "10:31:15 From PIAIC 99685 To Everyone : PIAIC-99685\n",
    "10:31:18 From PIAIC 99685 To Everyone : present\n",
    "10:31:28 From Syed PIAIC168703 To Everyone : I is key\n",
    "10:31:39 From Syed PIAIC168703 To Everyone : i*i is respective vaalue\n",
    "10:36:11 From Sehrish Fatima-PIAIC To Everyone : PIAIC-174229\n",
    "10:38:18 From A.Rahman PIAIC150034 To Everyone : piaic 150034\n",
    "10:38:24 From Arshad To Everyone : PIAIC-168092\n",
    "10:39:36 From Sheeraz To Everyone : PIAIC 132123\n",
    "10:41:27 From PIAIC175139 naeem khan To Everyone : PIAIC175139\n",
    "10:42:09 From SafeerAhmad 139339 To Everyone : PIAIC-139339\n",
    "10:42:39 From Moattar Khanum (PIAIC170982) To Everyone : pyramid example\n",
    "10:42:59 From Fareeha To Everyone : PIAIC142650\n",
    "10:44:02 From Shehzad Anjum 185122 To Everyone : please use \\t in first seperate\n",
    "10:44:05 From Moattar Khanum (PIAIC170982) To Everyone : *      * * *    * * * * *  * * * * * * ** * * * * * * * *\n",
    "10:44:33 From Muhammad Junaid Hussain-PIAIC187530 To Everyone : Muhammad Junaid Hussain- PIAIC187530\n",
    "10:48:18 From Ahmad Mudassar PIAIC113830 To Everyone : Ahmad Mudassar\n",
    "10:48:28 From Ahmad Mudassar PIAIC113830 To Everyone : Ahmad Mudassar PIAIC113830\n",
    "10:49:12 From Umer Ghaffar PIAIC184298 To Everyone : PIAIC184298\n",
    "10:52:46 From Cashif 143001 To Everyone : Kashif Mahmood Khan PIAIC 143001\n",
    "10:53:10 From Muhammad Hawaris To Everyone : Muhammad Hawaris PIAIC188433\n",
    "10:55:48 From (PIAIC-189416) Muhammad Murtaza Khan To Everyone : PIAIC189416\n",
    "10:57:03 From Aneeq Mughal To Everyone : Aneeq Ali Mughal PIAIC170928\n",
    "10:57:28 From Humera Naz To Everyone : SIR is end also a function name?\n",
    "10:57:41 From Muhammad Sadullah = PIAIC-178950 To Everyone : Muhammad Sadullah = PIAIC-178950\n",
    "10:57:47 From Syed Jawad [PIAIC185558] To Everyone : https://www.hackerrank.com/domains/python\n",
    "10:57:56 From Syed Jawad [PIAIC185558] To Everyone : is me practice kr sakte h\n",
    "10:59:22 From Nasir Hussain (Faculty) To Everyone : https://classroom.google.com/c/NTM2OTg1MzExNTUw?cjc=kowtvgm\n",
    "11:00:22 From Homesaira mehmood To Everyone : http://www.asmarterwaytolearn.com/python/index-of-exercises.html\n",
    "11:00:51 From Imaad ud din Motan To Everyone : audio lag\n",
    "11:03:35 From Salman Nayyer To Everyone : Sir row ki bajay col bhi ho saktya hai\n",
    "11:06:17 From Shehzad Anjum 185122 To Everyone : that is for javascript\n",
    "11:06:38 From asghar ibraheem baloch CNC-012105 To Everyone : metaverse\n",
    "11:10:17 From Abdul Saboor Zaman PIAIC189261 To Everyone : Abdul\n",
    "11:10:26 From Abdul Saboor Zaman PIAIC189261 To Everyone : Abdul Saboor Zaman PIAIC189261\n",
    "11:10:27 From PIAIC175139 naeem khan To Everyone : PIAIC175139\n",
    "11:10:50 From Afnan 182978 To Everyone : break\n",
    "11:11:01 From Homesaira mehmood To Everyone : PIAIC-176439\n",
    "11:11:07 From mehdi abbas To Everyone : break\n",
    "11:11:08 From Abdul Saboor Zaman PIAIC189261 To Everyone : break\n",
    "11:11:09 From Syed PIAIC168703 To Everyone : BREAK\n",
    "11:11:11 From Sehrish Fatima-PIAIC To Everyone : break\n",
    "11:11:11 From (PIAIC-189416) Muhammad Murtaza Khan To Everyone : BREAKKKKKK\n",
    "11:11:11 From Muhammad Sadullah = PIAIC-178950 To Everyone : NO BREAK\n",
    "11:11:12 From Zia (PIAIC121514) To Everyone : nO BREAK\n",
    "11:11:13 From Rehman To Everyone : no break\n",
    "11:11:14 From Afnan 182978 To Everyone : jisko ni chai vo apse me discus Karen tooic\n",
    "11:11:14 From vivo 1901 To Everyone : break\n",
    "11:11:14 From Muhammad Farhan Ahsan PIAIC-168894 To Everyone : break\n",
    "11:11:15 From Adnan Ul Haq (PIAIC-103786) To Everyone : Break\n",
    "11:11:15 From MUHAMMAD USMAN MANZOOR To Everyone : Break\n",
    "11:11:15 From Taqwa Khaliq To Everyone : break\n",
    "11:11:15 From 185099 Murtaza To Everyone : No break\n",
    "11:11:16 From Muhammad Adrees To Everyone : No break\n",
    "11:11:16 From Salman Nayyer To Everyone : no break\n",
    "11:11:17 From Afnan 182978 To Everyone : break\n",
    "11:11:17 From Sadia To Everyone : break\n",
    "11:11:18 From Daud To Everyone : no break\n",
    "11:11:18 From Muhammad Talha PIAIC174047 To Everyone : Break\n",
    "11:11:19 From Kabeer Rajput To Everyone : no break\n",
    "11:11:19 From Irfan Ahmed - (PIAIC178547) To Everyone : nobreak\n",
    "11:11:19 From Aisha Siddiqua To Everyone : break\n",
    "11:11:19 From mehdi abbas To Everyone : breakkkkkkkkkkkkkkkkkkkkkkkkkkkkkkk\n",
    "11:11:21 From Muhammad Sadullah = PIAIC-178950 To Everyone : NOBREAK\n",
    "11:11:21 From Jawad Ahmed PIAIC96020 To Everyone : break\n",
    "11:11:21 From Moeed Masood PIAIC185253 To Everyone : nobreak\n",
    "11:11:21 From Rehman To Everyone : nobreak\n",
    "11:11:21 From Maaz-PIAIC182239 To Everyone : no break\n",
    "11:11:21 From Homesaira mehmood To Everyone : nobreak\n",
    "11:11:22 From Muhammad Shahid-AIC005259 To Everyone : NoBreak\n",
    "11:11:22 From Imran Khalid PIAIC185636 To Everyone : Break\n",
    "11:11:22 From Wardah(PIAIC172641) To Everyone : NOBREAK\n",
    "11:11:23 From Syed PIAIC168703 To Everyone : break\n",
    "11:11:23 From Ali Azam-PIAIC66597 To Everyone : nobreak\n",
    "11:11:23 From Junaid Ali Bhatti To Everyone : nobreak\n",
    "11:11:24 From cz 3 To Everyone : nobreak\n",
    "11:11:24 From Muhammad Faizan To Everyone : break\n",
    "11:11:24 From Ashraf Makhdoom Syed To Everyone : nobreak\n",
    "11:11:25 From Taqwa Khaliq To Everyone : break\n",
    "11:11:25 From Daud To Everyone : no break\n",
    "11:11:25 From Yousaf-173795 To Everyone : break\n",
    "11:11:25 From HaiderAli-PIAIC179345 To Everyone : nobreak\n",
    "11:11:26 From Aisha Siddiqua To Everyone : break\n",
    "11:11:26 From PIAIC175139 naeem khan To Everyone : nobreak\n",
    "11:11:26 From Maaz-PIAIC182239 To Everyone : nobreak\n",
    "11:11:26 From SafeerAhmad 139339 To Everyone : nobreak\n",
    "11:11:27 From Syed Jawad [PIAIC185558] To Everyone : break\n",
    "11:11:27 From (PIAIC-189416) Muhammad Murtaza Khan To Everyone : BREAK\n",
    "11:11:27 From Maah Noor PIAIC168751 To Everyone : nobreak\n",
    "11:11:27 From Muhammad Atif [PIAIC 139458] To Everyone : Nobreak\n",
    "11:11:28 From Muhammad Adrees To Everyone : nobreak\n",
    "11:11:28 From Amna Liaqat PIAIC 133452 To Everyone : Nobreak\n",
    "11:11:28 From Fazal Abbas To Everyone : Nobreak\n",
    "11:11:29 From MUHAMMAD USMAN MANZOOR To Everyone : Break\n",
    "11:11:29 From SafeerAhmad 139339 To Everyone : nobreak\n",
    "11:11:29 From Abdul-Husnain To Everyone : break\n",
    "11:11:29 From Zeeshan Asim : PIAIC55300 To Everyone : NoBreak\n",
    "11:11:29 From Usman Noor PIAIC-188401 To Everyone : nobreak\n",
    "11:11:30 From Maha Ilyas 2874 To Everyone : BREAK\n",
    "11:11:30 From 185099 Murtaza To Everyone : Nobreak\n",
    "11:11:30 From Zeenat Zakir: Piaic 133802 To Everyone : nobreak\n",
    "11:11:30 From Dr.Bhagwan Das To Everyone : No Break\n",
    "11:11:30 From Salma Asif To Everyone : nobreak\n",
    "11:11:31 From Khurshed Anwar-PIAIC-157450 To Everyone : break\n",
    "11:11:31 From Agha Ali PIAIC164763 To Everyone : nobreak\n",
    "11:11:31 From PIAIC175139 naeem khan To Everyone : nobreak\n",
    "11:11:31 From Afnan 182978 To Everyone : break\n",
    "11:11:32 From Aisha Siddiqua To Everyone : break\n",
    "11:11:32 From Kabeer Rajput To Everyone : nobreak\n",
    "11:11:33 From Home To Everyone : Nobreak\n",
    "11:11:33 From ALI ISMAIL HUSSAIN To Everyone : break\n",
    "11:11:33 From Amir Rashid To Everyone : nobreak\n",
    "11:11:33 From SafeerAhmad 139339 To Everyone : nobreak\n",
    "11:11:33 From Muhammad Faizan To Everyone : break\n",
    "11:11:33 From 185099 Murtaza To Everyone : Nobreak\n",
    "11:11:34 From Musa Abkr To Everyone : nobreak\n",
    "11:11:34 From Ali Asar To Everyone : nobreak\n",
    "11:11:34 From Moeed Masood PIAIC185253 To Everyone : nobreak\n",
    "11:11:35 From Muhammad Sadullah = PIAIC-178950 To Everyone : NOBREAK\n",
    "11:11:35 From MUHAMMAD USMAN MANZOOR To Everyone : Break\n",
    "11:11:36 From Muhammad Talha PIAIC174047 To Everyone : break\n",
    "11:11:36 From PIAIC183349 Muahhamd Waseem To Everyone : Break\n",
    "11:11:36 From Moattar Khanum (PIAIC170982) To Everyone : Nobreak\n",
    "11:11:36 From Maaz-PIAIC182239 To Everyone : nobreak\n",
    "11:11:37 From Muhammad Talha PIAIC174047 To Everyone : break\n",
    "11:11:38 From اسامه سلفى PIAIC91925 To Everyone : nobreak\n",
    "11:11:38 From Muhammad Talha PIAIC174047 To Everyone : brea\n",
    "11:11:39 From Zia (PIAIC121514) To Everyone : NoBREAK\n",
    "11:11:39 From Muhammed.Shahid To Everyone : nobreak\n",
    "11:11:39 From asghar ibraheem baloch CNC-012105 To Everyone : nobreak\n",
    "11:11:40 From SafeerAhmad 139339 To Everyone : nobreak\n",
    "11:11:40 From Saeed To Everyone : break or no break\n",
    "11:11:40 From Muhammad Talha PIAIC174047 To Everyone : break\n",
    "11:11:40 From Muhammad Mehroz To Everyone : break\n",
    "11:11:40 From Majid Naru PIAIC-187644 To Everyone : nobreak\n",
    "11:11:41 From PIAIC187118 Muhammad  Imran Wali To Everyone : nobreak\n",
    "11:11:41 From Syed Amir PIAIC128409 To Everyone : nobreak\n",
    "11:11:42 From MUHAMMAD USMAN MANZOOR To Everyone : Break\n",
    "11:11:42 From (PIAIC-189416) Muhammad Murtaza Khan To Everyone : BREAK\n",
    "11:11:43 From mehdi abbas To Everyone : breakkkkkkuuuuuuu\n",
    "11:11:44 From Muhammad Talha PIAIC174047 To Everyone : break\n",
    "11:11:44 From Daud To Everyone : no break\n",
    "11:11:45 From Agha Ali PIAIC164763 To Everyone : nobreak\n",
    "11:11:46 From Gulshan Ali To Everyone : break\n",
    "11:11:46 From SafeerAhmad 139339 To Everyone : Nobreak\n",
    "11:11:46 From Imaad ud din Motan To Everyone : nobreak\n",
    "11:11:47 From Aisha Siddiqua To Everyone : break\n",
    "11:11:47 From fozia shareen To Everyone : NO Break\n",
    "11:11:47 From Muhammad Furqan To Everyone : nobreak\n",
    "11:11:47 From Home To Everyone : nobreak\n",
    "11:11:48 From PIAIC183349 Muahhamd Waseem To Everyone : Break\n",
    "11:11:48 From Shahzaib To Everyone : break\n",
    "11:11:48 From PIAIC (188172) Ahmed To Everyone : nobreak\n",
    "11:11:48 From Syed Jawad [PIAIC185558] To Everyone : break\n",
    "11:11:49 From Shahzaib To Everyone : break\n",
    "11:11:49 From Dr.Bhagwan Das To Everyone : NoBreak\n",
    "11:11:49 From Shahzaib To Everyone : break\n",
    "11:11:49 From Syed Sajjad Hussain PIAIC152592 To Everyone : nobreAK\n",
    "11:11:50 From Shahzaib To Everyone : break\n",
    "11:11:50 From Shahzaib To Everyone : break\n",
    "11:11:50 From Zia (PIAIC121514) To Everyone : NoBreak\n",
    "11:11:50 From Shahzaib To Everyone : break\n",
    "11:11:50 From Muhammad Talha PIAIC174047 To Everyone : break\n",
    "11:11:51 From Shahzaib To Everyone : break\n",
    "11:11:51 From Shoaib Ahmed Khan (PIAIC159833) To Everyone : nobreak\n",
    "11:11:51 From Shahzaib To Everyone : break\n",
    "11:11:51 From Shahzaib To Everyone : break\n",
    "11:11:52 From Shahzaib To Everyone : break\n",
    "11:11:52 From Majid Naru PIAIC-187644 To Everyone : nobreak\n",
    "11:11:52 From Shahzaib To Everyone : break\n",
    "11:11:52 From Muhammad Talha PIAIC174047 To Everyone : break\n",
    "11:11:52 From Mohammad Javed To Everyone : Break\n",
    "11:11:52 From Shahzaib To Everyone : break\n",
    "11:11:53 From Shahzaib To Everyone : break\n",
    "11:11:53 From MUHAMMAD USMAN MANZOOR To Everyone : Break\n",
    "11:11:53 From Shahzaib To Everyone : break\n",
    "11:11:53 From Daud To Everyone : nobreak\n",
    "11:11:53 From Shahzaib To Everyone : break\n",
    "11:11:54 From Shahzaib To Everyone : break\n",
    "11:11:54 From Shahzaib To Everyone : break\n",
    "11:11:55 From MUHAMMAD USMAN MANZOOR To Everyone : Break\n",
    "11:11:55 From Muhammad Talha PIAIC174047 To Everyone : break\n",
    "11:11:55 From Abdul Saboor Zaman PIAIC189261 To Everyone : break\n",
    "11:11:56 From Majid Naru PIAIC-187644 To Everyone : nobreak\n",
    "11:11:56 From 185099 Murtaza To Everyone : Nobreak\n",
    "11:11:56 From Muhammad Furqan To Everyone : nobreak\n",
    "11:11:57 From SafeerAhmad 139339 To Everyone : Nobreak\n",
    "11:11:57 From Shoaib Ahmed Khan (PIAIC159833) To Everyone : nobreak\n",
    "11:11:57 From Taqwa Khaliq To Everyone : break\n",
    "11:11:59 From Zia (PIAIC121514) To Everyone : Nobreak\n",
    "11:12:00 From Junaid Yusuf To Everyone : nobreak\n",
    "11:12:00 From Muhammad Faizan To Everyone : break\n",
    "11:12:02 From PIAIC (188172) Ahmed To Everyone : nobreak\n",
    "11:12:02 From Afnan 182978 To Everyone : break\n",
    "11:12:04 From Home To Everyone : nobreak\n",
    "11:12:06 From Muhammad Talha PIAIC174047 To Everyone : Break\n",
    "11:12:07 From Irtiza Khan [PIAIC 171375] To Everyone : NObreak\n",
    "11:12:12 From Muhammad Faizan To Everyone : break\n",
    "11:12:16 From M. ADNAN SAEED PIAIC174751 To Everyone : break\n",
    "11:12:17 From Muhammad Furqan To Everyone : nobreak\n",
    "11:12:24 From Zia (PIAIC121514) To Everyone : Sir ya file share kr dyn\n",
    "11:12:40 From Saeed To Everyone : at 12 I have to go for another class\n",
    "11:12:41 From Amir Rashid To Everyone : ok\n",
    "11:12:57 From PIAIC183349 Muahhamd Waseem To Everyone : PIAIC183349\n",
    "11:13:03 From Saeed To Everyone : please take attendance at 11:45\n",
    "11:13:04 From Gulshan Ali To Everyone : take a cup tea\n",
    "11:14:52 From Ali Muawia To Everyone : PIAIC 171658\n",
    "11:14:58 From Amir Rashid To Everyone : python crash book share please\n",
    "11:16:57 From Agha Ali PIAIC164763 To Everyone : please share python crash book in chat\n",
    "11:17:21 From Zohaib Ahmed To Everyone : PIAIC176190\n",
    "11:17:27 From Adnan Ul Haq (PIAIC-103786) To Everyone : Google class room code plz\n",
    "11:17:56 From Zia (PIAIC121514) To Everyone : https://classroom.google.com/c/NTM2OTg1MzExNTUw?cjc=kowtvgm\n",
    "11:18:27 From Amir Rashid To Everyone : python 1000 tasks url share\n",
    "11:19:29 From asghar ibraheem baloch CNC-012105 To Everyone : competition\n",
    "11:19:52 From Muhammad Naveed PIAIC133985 To Everyone : Muhammad Naveed PIAIC133985\n",
    "11:20:13 From Moattar Khanum (PIAIC170982) To Everyone : https://pynative.com/python-exercises-with-solutions/\n",
    "11:20:15 From sohaib PIAIC67260 To Everyone : www.kaggle.com\n",
    "11:20:40 From Moattar Khanum (PIAIC170982) To Everyone : best practice for python\n",
    "11:20:44 From Moattar Khanum (PIAIC170982) To Everyone : https://pynative.com/python-exercises-with-solutions/\n",
    "11:21:06 From Umer Ghaffar PIAIC184298 To Everyone : https://classroom.google.com/c/NTM2OTg1MzExNTUw\n",
    "11:21:47 From Umer Ghaffar PIAIC184298 To Everyone : PIAIC184298\n",
    "11:21:55 From asghar ibraheem baloch CNC-012105 To Everyone : time hogya hy\n",
    "11:22:09 From 02. M Awais Mushtaq Sec A To Everyone : M Awais Mushtaq PIAIC183887\n",
    "11:22:23 From ASIF ALI (A.I) To Everyone : ASIF ALIPIAIC 183730\n",
    "11:22:33 From Kabeer Rajput To Everyone : PIAIC-133488\n",
    "11:22:43 From Ali Azam-PIAIC66597 To Everyone : Ali AzamPIAIC66597\n",
    "11:22:43 From asghar ibraheem baloch CNC-012105 To Everyone : CNC012105\n",
    "11:22:49 From Neelum Javaid PIAIC172527 To Everyone : Neelum Javaid PIAIC-172527\n",
    "11:22:51 From Haseeb Iqbal- PIAIC 180144 To Everyone : Haseeb Iqbal PIAIC 180144\n",
    "11:22:54 From Maah Noor PIAIC168751 To Everyone : maahnoor PIAIC168751\n",
    "11:22:57 From Humera Naz To Everyone : humera naz 173431\n",
    "11:22:57 From Muhammad Furqan(PIAIC183270) To Everyone : PIAIC183270\n",
    "11:23:00 From Irfan Ahmed - (PIAIC178547) To Everyone : PIAIC178547\n",
    "11:23:03 From Muhammad Furqan(PIAIC183270) To Everyone : PIAIC183270\n",
    "11:23:04 From Adnan Ul Haq (PIAIC-103786) To Everyone : Google class code??\n",
    "11:23:05 From Noman Ali PIAIC 180111 To Everyone : Noman Ali PIAIC180111\n",
    "11:23:08 From Jawad Ahmed PIAIC96020 To Everyone : jawad Ahmed piaic96020\n",
    "11:23:08 From Muhammad Saad To Everyone : Muhammad Saad PIAIC172478\n",
    "11:23:12 From asghar ibraheem baloch CNC-012105 To Everyone : asghar ibraheem balochCNC012105\n",
    "11:23:14 From sohaib PIAIC67260 To Everyone : Sohaib Baseer Ahmad PIAIC67260\n",
    "11:23:17 From Muhammad Furqan(PIAIC183270) To Everyone : PIAIC183270\n",
    "11:23:17 From Irtiza Khan [PIAIC 171375] To Everyone : PIAIC171375\n",
    "11:23:19 From PIAIC (188172) Ahmed To Everyone : Ahmed Hassan PIAIC188172\n",
    "11:23:22 From Qadeer Ahmed - 163577 To Everyone : PIAIC163577\n",
    "11:23:30 From Hammad Ahmad To Everyone : PIAIC172695\n",
    "11:23:37 From Mashal Zahra To Everyone : PIAIC178751\n",
    "11:23:47 From Muhammad Raed Zaman Siddiqui To Everyone : Muhammad Raed Zaman Siddiqui  PIAIC176697\n",
    "11:23:57 From Fazal Abbas To Everyone : PIAIC182763\n",
    "11:24:00 From Muhammad Athar PIAIC 174016 To Everyone : MuhammadAthar  PIAIC174016\n",
    "11:24:01 From Sadia To Everyone : piaic180028\n",
    "11:24:02 From Aisha Siddiqua To Everyone : Aisha Siddiqua piaic181221\n",
    "11:24:22 From Dr.Bhagwan Das To Everyone : Bhagwan Das PIAIC96879\n",
    "11:24:39 From Umer Ghaffar PIAIC184298 To Everyone : Umer Ghaffar PIAIC184298\n",
    "11:24:41 From PIAIC95349 Ali To Everyone : Syed Muhammad Ali Rizvi PIAIC95349\n",
    "11:24:47 From Umer Ghaffar PIAIC184298 To Everyone : PIAIC184298\n",
    "11:24:49 From Zeeshan Latif To Everyone : https://www.kaggle.com/zeeshanlatif\n",
    "11:24:50 From Junaid Ali Bhatti To Everyone : Junaid Ali Bhatti PIAIC174125\n",
    "11:24:51 From Mohsin Naseer PIAIC68513 To Everyone : sir last week ki video upload ho gye?\n",
    "11:24:54 From Victor PIAIC 177535 To Everyone : PIAIC177535\n",
    "11:25:05 From Imaad ud din Motan To Everyone : PIAIC91698\n",
    "11:25:07 From sarimeffendi To Everyone : PIAIC188720\n",
    "11:25:07 From Ali Asar To Everyone : PIAIC187258\n",
    "11:25:50 From Dr.Bhagwan Das To Everyone : PIAIC96879\n",
    "11:25:53 From Muhammad Shahid-AIC005259 To Everyone : PIAIC005259\n",
    "11:25:55 From Ali Muawia To Everyone : PIAIC171658\n",
    "11:26:07 From Saeed To Everyone : PIAIC131885\n",
    "11:26:07 From Zeenat Zakir: Piaic 133802 To Everyone : PIAIC133802\n",
    "11:26:44 From Agha Ali PIAIC164763 To Everyone : PIAIC164763\n",
    "11:26:44 From Noman Ali PIAIC 180111 To Everyone : PIAIC180111\n",
    "11:26:57 From Usman Noor PIAIC-188401 To Everyone : PIAIC-188401\n",
    "11:27:01 From Ali Raza 62922 To Everyone : PIAIC 62922\n",
    "11:27:26 From Shoaib Ahmed Khan (PIAIC159833) To Everyone : kowtvgm\n",
    "11:28:08 From Shoaib Ahmed Khan (PIAIC159833) To Everyone : PIAIC159833\n",
    "11:29:09 From SafeerAhmad 139339 To Everyone : JO kr rhye ho wo to phly kr lo agye ki pahri hoi ha\n",
    "11:29:10 From Amir Rashid To Everyone : PIAIC107890\n",
    "11:29:24 From Agha Ali PIAIC164763 To Everyone : sir mute all and continue the lecture.\n",
    "11:30:06 From Irfan Ahmed To Everyone : PIAIC172147\n",
    "11:30:10 From cz 3 To Everyone : PIAIC125164\n",
    "11:31:39 From HaiderAli-PIAIC179345 To Everyone : PIAIC179345\n",
    "11:32:02 From Wardah(PIAIC172641) To Everyone : Wardah(PIAIC172641)\n",
    "11:32:17 From Umer Ghaffar PIAIC184298 To Everyone : PIAIC184298\n",
    "11:32:33 From PIAIC123437 To Everyone : can anyone send google class room link\n",
    "11:33:34 From Wajid khan To Everyone : PIAIC181896\n",
    "11:33:52 From Amna Farrukh To Everyone : PIAIC149493\n",
    "11:34:25 From Faisal Zohaib To Everyone : PIAIC169528\n",
    "11:34:35 From Salma Asif To Everyone : PIAIC176945\n",
    "11:34:35 From Irfan Ahmed - (PIAIC178547) To Everyone : Empty block\n",
    "11:34:37 From Faisal Zohaib To Everyone : AIC-169528\n",
    "11:35:32 From Khurshed Anwar-PIAIC-157450 To Everyone : PIAIC157450\n",
    "11:35:44 From Amna Liaqat PIAIC 133452 To Everyone : PIAIC133452\n",
    "11:36:09 From Amna Liaqat PIAIC 133452 To Everyone : Class, attendance tou nahin hoi? I was away for 5 minutes.7\n",
    "11:36:18 From Nasrullah (PIAIC 180162) To Everyone : PIAIC-180162\n",
    "11:36:34 From vivo 1901 To Everyone : PIAIC74287 Atif Aziz\n",
    "11:36:52 From Samina - PIAIC52499 To Everyone : PIAIC52499\n",
    "11:36:53 From Saeed To Everyone : sir attendane layalain to leave at 12:00\n",
    "11:37:10 From mehdi abbas To Everyone : in the presence of pass the line needs to be pass at any cost.\n",
    "11:40:59 From Syed Jawad [PIAIC185558] To Everyone : PIAIC185558\n",
    "11:41:02 From Taqwa Khaliq To Everyone : PIAIC173701\n",
    "11:41:04 From sarimeffendi To Everyone : PIAIC188720\n",
    "11:41:06 From Ahmad Mudassar PIAIC113830 To Everyone : PIAIC113830\n",
    "11:41:07 From Junaid Ali Bhatti To Everyone : PIAIC174125\n",
    "11:41:08 From HuzaifaTahir PIAIC-60925 To Everyone : PIAIC60925\n",
    "11:41:10 From Salman Nayyer To Everyone : PIAIC180996\n",
    "11:41:11 From Muhammad Furqan(PIAIC183270) To Everyone : PIAIC183270\n",
    "11:41:11 From Aisha Siddiqua To Everyone : PIAIC181221\n",
    "11:41:12 From vivo 1901 To Everyone : PIAIC74287\n",
    "11:41:12 From Humera Naz To Everyone : PIAIC173431\n",
    "11:41:13 From Ali Azam-PIAIC66597 To Everyone : PIAIC66597\n",
    "11:41:13 From Salma Asif To Everyone : PIAIC176945\n",
    "11:41:15 From 02. M Awais Mushtaq Sec A To Everyone : PIAIC183887\n",
    "11:41:16 From Irtiza Khan [PIAIC 171375] To Everyone : PIAIC171375\n",
    "11:41:17 From Kabeer Rajput To Everyone : PIAIC133488\n",
    "11:41:17 From Muhammad Farhan Ahsan PIAIC-168894 To Everyone : PIAIC168894\n",
    "11:41:18 From Usman Noor PIAIC-188401 To Everyone : PIAIC188401\n",
    "11:41:19 From Moattar Khanum (PIAIC170982) To Everyone : PIAIC170982\n",
    "11:41:19 From MUHAMMAD USMAN MANZOOR To Everyone : PIAIC128778Muhammad Usman Manzoor\n",
    "11:41:20 From PIAIC188523 To Everyone : PIAIC188523\n",
    "11:41:20 From M. ADNAN SAEED PIAIC174751 To Everyone : PIAIC174751\n",
    "11:41:20 From Amir PIAIC128409 To Everyone : PIAIC128409\n",
    "11:41:21 From Irfan Ahmed - (PIAIC178547) To Everyone : PIAIC178547\n",
    "11:41:22 From Ali Asar To Everyone : PIAIC187258\n",
    "11:41:22 From (PIAIC-189416) Muhammad Murtaza Khan To Everyone : PIAIC189416\n",
    "11:41:22 From HaiderAli-PIAIC179345 To Everyone : PIAIC179345\n",
    "11:41:24 From PIAIC 175167 To Everyone : PIAIC175167\n",
    "11:41:24 From Zaki@PIAIC172541 To Everyone : PIAIC172541\n",
    "11:41:24 From Muhammad Adrees To Everyone : PIAIC74182\n",
    "11:41:25 From ALI ISMAIL HUSSAIN To Everyone : IOT048687\n",
    "11:41:27 From PIAIC (188172) Ahmed To Everyone : PIAIC188172\n",
    "11:41:28 From Mashal Zahra To Everyone : PIAIC178751\n",
    "11:41:28 From Moattar Khanum (PIAIC170982) To Everyone : PIAIC170982\n",
    "11:41:28 From Yousaf-173795 To Everyone : PIAIC173795\n",
    "11:41:28 From Dr.Bhagwan Das To Everyone : PIAIC96879\n",
    "11:41:29 From Amir Rashid To Everyone : PIAIC107890\n",
    "11:41:29 From Samina - PIAIC52499 To Everyone : PIAIC52499\n",
    "11:41:31 From PIAIC183349 Muahhamd Waseem To Everyone : PIAIC183349\n",
    "11:41:32 From Cashif 143001 To Everyone : PIAIC-143001\n",
    "11:41:33 From Wardah(PIAIC172641) To Everyone : PIAIC172641\n",
    "11:41:35 From Gulshan Ali To Everyone : PIAIC176719\n",
    "11:41:35 From Ashraf Makhdoom Syed To Everyone : Syed Makhdoom Ahmed Ashraf = PIAIC155482\n",
    "11:41:36 From 133544-Matee To Everyone : PIAIC133544\n",
    "11:41:38 From cz 3 To Everyone : PIAIC125164\n",
    "11:41:38 From Sehrish Fatima-PIAIC To Everyone : PIAIC-174229\n",
    "11:41:39 From Qadeer Ahmed - 163577 To Everyone : PIAIC163577\n",
    "11:41:39 From ASIF ALI (A.I) To Everyone : PIAIC183730\n",
    "11:41:40 From Majid Naru PIAIC-187644 To Everyone : PIAIC187644\n",
    "11:41:40 From Khurshed Anwar-PIAIC-157450 To Everyone : PIAIC157450\n",
    "11:41:40 From Samsung SM-A325F To Everyone : PIAIC178248\n",
    "11:41:40 From PIAIC95349 Ali To Everyone : PIAIC95349\n",
    "11:41:42 From Homesaira mehmood To Everyone : PIAIC176439\n",
    "11:41:47 From Shoaib Ahmed Khan (PIAIC159833) To Everyone : PIAIC159833\n",
    "11:41:47 From Mohsin Naseer PIAIC68513 To Everyone : PIAIC68513\n",
    "11:41:48 From Syed Sajjad Hussain PIAIC152592 To Everyone : PIAIC152592\n",
    "11:41:51 From Muhammad Hawaris To Everyone : PIAIC188433\n",
    "11:41:57 From Nasrullah (PIAIC 180162) To Everyone : PIAIC180162\n",
    "11:41:58 From Home To Everyone : PIAIC172998\n",
    "11:41:58 From Sabir Zafar To Everyone : PIAIC182023\n",
    "11:41:58 From PIAIC187118 Muhammad  Imran Wali To Everyone : PIAIC187118\n",
    "11:42:00 From Ali Raza 62922 To Everyone : PIAIC62922\n",
    "11:42:04 From Maha Ilyas 2874 To Everyone : PIAIC177982\n",
    "11:42:04 From Ayesha Qamar To Everyone : PIAIC185674\n",
    "11:42:05 From Umer Ghaffar PIAIC184298 To Everyone : PIAIC184298\n",
    "11:42:05 From Sehrish Fatima-PIAIC To Everyone : PIAIC174229\n",
    "11:42:05 From Irfan Ahmed To Everyone : PIAIC172147\n",
    "11:42:06 From Saad PIAIC174416 To Everyone : PIAIC174416\n",
    "11:42:08 From Agha Ali PIAIC164763 To Everyone : PIAIC164763\n",
    "11:42:09 From Maaz-PIAIC182239 To Everyone : PIAIC182239\n",
    "11:42:11 From Dr.Bhagwan Das To Everyone : PIAIC96879\n",
    "11:42:11 From Wajeeha Ayaz To Everyone : PUAIC175646\n",
    "11:42:12 From Amna Farrukh To Everyone : PIAIC149493\n",
    "11:42:14 From Moeed Masood PIAIC185253 To Everyone : Moeed Masood PIAIC185253\n",
    "11:42:15 From اسامه سلفى PIAIC91925 To Everyone : piaic91925\n",
    "11:42:16 From Muhammad Shahid-AIC005259 To Everyone : PAIC005259\n",
    "11:42:17 From Muhammad Saad To Everyone : PIAIC172478\n",
    "11:42:17 From Fareeha To Everyone : PIAIC142650\n",
    "11:42:19 From Neelum Javaid PIAIC172527 To Everyone : PIAIC172527\n",
    "11:42:21 From ABDUL BASIT To Everyone : PIAIC59115\n",
    "11:42:22 From Usama Rehman To Everyone : PIAIC171408\n",
    "11:42:22 From Sadia To Everyone : piaic180028\n",
    "11:42:23 From Muhammad Mehroz To Everyone : PIAIC131496\n",
    "11:42:23 From Irfan Ahmed PIAIC183459 To Everyone : PIAIC183459\n",
    "11:42:23 From fozia shareen To Everyone : piaic165097\n",
    "11:42:23 From Wajeeha Ayaz To Everyone : PIAIC175646\n",
    "11:42:24 From LENOVO To Everyone : PIAIC151960\n",
    "11:42:24 From Jawad Ahmed PIAIC96020 To Everyone : jawad Ahmed piaic 96020\n",
    "11:42:25 From PIAIC 132123 To Everyone : PIAIC 132123\n",
    "11:42:26 From Hamza-PC To Everyone : PIAIC55486\n",
    "11:42:26 From Muhammad Naveed PIAIC133985 To Everyone : Muhammad Naveed PIAIC133985\n",
    "11:42:27 From sohaib PIAIC67260 To Everyone : PIAIC67260\n",
    "11:42:27 From Syed Sajjad Hussain PIAIC152592 To Everyone : PIAIC152592\n",
    "11:42:27 From Imran Ahmed To Everyone : Imran Ahmed PIAIC95846\n",
    "11:42:30 From Nabeel SHAHAB  (PIAIC185213) To Everyone : PIAIC185213\n",
    "11:42:31 From Muhammad Mehroz To Everyone : PIAIC131496\n",
    "11:42:33 From Muhammad Naveed PIAIC133985 To Everyone : PIAIC133985\n",
    "11:42:36 From Muhammad Shahid-AIC005259 To Everyone : PIAIC005259\n",
    "11:42:40 From Aisha Siddiqua To Everyone : PIAIC181221\n",
    "11:42:44 From Mohammad Javed To Everyone : PIAIC185754\n",
    "11:42:45 From Zeenat Zakir: Piaic 133802 To Everyone : PIAIC133802\n",
    "11:42:45 From Asim sharif(PIAIC172797) To Everyone : PIAIC172797\n",
    "11:42:48 From Rehman To Everyone : PIAIC173652\n",
    "11:42:57 From Jawad Ahmed PIAIC96020 To Everyone : PIAIC96020\n",
    "11:42:59 From SHEHZAD PIAIC180057 To Everyone : PIAIC180057\n",
    "11:43:01 From LENOVO To Everyone : PIAIC151960\n",
    "11:43:08 From Abdul Qadar To Everyone : PIAIC172941\n",
    "11:43:09 From Noman Ali PIAIC 180111 To Everyone : PIAIC180111\n",
    "11:43:15 From 185099 Murtaza To Everyone : PIAIC185099\n",
    "11:43:15 From Muhammad Athar PIAIC 174016 To Everyone : PIAIC174016\n",
    "11:43:24 From Abdul Saboor Zaman PIAIC189261 To Everyone : PIAIC189261\n",
    "11:43:24 From اسامه سلفى PIAIC91925 To Everyone : PIAIC91925\n",
    "11:43:39 From SadafMansoor 84989 To Everyone : PIAIC94989\n",
    "11:43:46 From Kainat PIAIC182352 To Everyone : PIAIC 182352\n",
    "11:43:47 From Neelum Javaid PIAIC172527 To Everyone : PIAIC172527\n",
    "11:43:47 From Zeeshan Latif To Everyone : PIAIC171445\n",
    "11:43:54 From Abdul Rehman Shafiq To Everyone : PIAIC172525\n",
    "11:43:54 From Ahmed Sohail To Everyone : PIAIC186252\"\"\""
   ]
  },
  {
   "cell_type": "code",
   "execution_count": 99,
   "metadata": {},
   "outputs": [
    {
     "data": {
      "text/plain": [
       "[('09:05:06', 'Humera Naz', 'PIAIC 173431'),\n",
       " ('09:05:34', 'Sabir Zafar', 'PIAIC182023'),\n",
       " ('09:06:41', 'Salman Nayyer', 'PIAIC 180996'),\n",
       " ('09:09:07', 'Syed Jawad [PIAIC185558]', 'PIAIC185558'),\n",
       " ('09:09:12', 'Amir Rashid', 'PIAIC107890'),\n",
       " ('09:09:15', 'Victor PIAIC 177535', 'PIAIC 177535'),\n",
       " ('09:10:07', 'Muhammad Faizan PIAIC189427', 'PIAIC189427'),\n",
       " ('09:16:15', 'PIAIC175331', 'PIAIC175331'),\n",
       " ('09:16:34', 'Gulshan Ali', 'PIAIC176719'),\n",
       " ('09:17:03', 'Agha Ali PIAIC164763', 'PIAIC164763'),\n",
       " ('09:17:14', 'Ali Muawia', 'PIAIC171658'),\n",
       " ('09:17:52', 'Muhammed Shahid', 'PIAIC134239'),\n",
       " ('09:19:36', 'Muhammad Athar PIAIC 174016', 'PIAIC 174016'),\n",
       " ('09:20:38', 'vivo 1901', 'PIAIC74287'),\n",
       " ('09:21:33', 'Home', 'PIAIC172998'),\n",
       " ('09:23:49', 'Irtiza Khan [PIAIC 171375]', 'PIAIC171375'),\n",
       " ('09:24:01', 'Ali Muawia', 'PIAIC171658'),\n",
       " ('09:26:16', 'Aneeq', 'PIAIC172924'),\n",
       " ('09:26:36', 'kashif.parvez', 'PIAIC101207'),\n",
       " ('09:30:32', 'Muhammad Adrees', 'PIAIC74182'),\n",
       " ('09:32:20', 'Salma Asif', 'PIAIC176945'),\n",
       " ('09:33:05', 'Zaki@PIAIC172541', 'PIAIC172541'),\n",
       " ('09:33:37', 'Khushbakht Hassan', 'PIAIC180280'),\n",
       " ('09:33:55', 'Yumna Fawad Moon', 'PIAIC188727'),\n",
       " ('09:34:15', 'Syed PIAIC168703', 'PIAIC 168703'),\n",
       " ('09:36:03', 'Nadeem ali Jamro PIAIC166522', 'PIAIC 166522'),\n",
       " ('09:37:13', 'Mohsin Naseer PIAIC68513', 'PIAIC68513'),\n",
       " ('09:37:57', 'Irfan Ahmed', 'PIAIC172147'),\n",
       " ('09:38:12', 'Syed Jawad [PIAIC185558]', 'PIAIC 185558'),\n",
       " ('09:39:18', 'Saeed', 'PIAIC-131885'),\n",
       " ('10:09:40', 'PIAIC173701_Taqwa Khaliq', 'PIAIC173701'),\n",
       " ('10:10:09', 'PIAIC188523', 'PIAIC188523'),\n",
       " ('10:10:31', 'Muhammad’s iPhone', 'PIAIC49583'),\n",
       " ('10:11:34', 'Noman Ali PIAIC 180111', 'PIAIC180111'),\n",
       " ('10:13:09', 'Samsung SM-A325F', 'PIAIC178248'),\n",
       " ('10:13:10', 'PIAIC 175167', 'PIAIC 175167'),\n",
       " ('10:13:24', 'Muhammad Mehroz', 'PIAIC131496'),\n",
       " ('10:13:27', 'Aahil Khowaja PIAIC 175761 BATCH 36', 'PIAIC 175761'),\n",
       " ('10:13:29', 'Maaz-PIAIC182239', 'PIAIC182239'),\n",
       " ('10:13:36', 'Muhammad Arslan PIAIC183812', 'PIAIC 183812'),\n",
       " ('10:13:38', '133544-Matee', 'PIAIC 133544'),\n",
       " ('10:13:49', 'Bilal Chaudhry(PIAIC176168)', 'PIAIC176168'),\n",
       " ('10:13:55', 'Amna Liaqat PIAIC 133452', 'PIAIC 133452'),\n",
       " ('10:13:56', 'Mashal Zahra', 'PIAIC178751'),\n",
       " ('10:14:01', 'Asim sharif(PIAIC172797)', 'PIAIC 172797'),\n",
       " ('10:14:01', 'M. ADNAN SAEED PIAIC174751', 'PIAIC174751'),\n",
       " ('10:14:03', '185099 Murtaza', 'PIAIC 185099'),\n",
       " ('10:14:03', 'SadafMansoor 84989', 'PIAIC84989'),\n",
       " ('10:14:57', 'Kabeer Alam (132619)', 'PIAIC132619'),\n",
       " ('10:15:11', 'Ayesha Qamar', 'PIAIC185674'),\n",
       " ('10:15:28', 'Naeem Sultan - 116704', 'PIAIC 116704'),\n",
       " ('10:15:33', 'Shazia Mushtaq', 'PIAIC176880'),\n",
       " ('10:15:52', 'LENOVO', 'PIAIC151960'),\n",
       " ('10:17:30', 'Maha Ilyas 2874', 'PIAIC 177982'),\n",
       " ('10:17:49', 'Ali Raza', 'PIAIC 62922'),\n",
       " ('10:18:33', 'Nehal', 'PIAIC182641'),\n",
       " ('10:18:46', 'Muhammad Saad', 'PIAIC172478'),\n",
       " ('10:18:49', 'Syed Jawad [PIAIC185558]', 'PIAIC185558'),\n",
       " ('10:19:01', 'SafeerAhmad 139339', 'PIAIC139339'),\n",
       " ('10:19:35', 'Owais Khattak', 'PIAIC139392'),\n",
       " ('10:19:40', 'Musa Abkr', 'PIAIC116498'),\n",
       " ('10:21:03', 'fozia shareen', 'PIAIC 165097'),\n",
       " ('10:22:16', 'Aisha Siddiqua', 'PIAIC181221'),\n",
       " ('10:24:12', 'Ureb Ahmad', 'PIAIC-172235'),\n",
       " ('10:25:10', 'Umer Ghaffar PIAIC184298', 'PIAIC184298'),\n",
       " ('10:27:01', 'PIAIC 174016', 'PIAIC 174016'),\n",
       " ('10:31:06', 'Afnan 182978', 'PIAIC 182978'),\n",
       " ('10:31:15', 'PIAIC 99685', 'PIAIC-99685'),\n",
       " ('10:36:11', 'Sehrish Fatima-PIAIC', 'PIAIC-174229'),\n",
       " ('10:38:24', 'Arshad', 'PIAIC-168092'),\n",
       " ('10:39:36', 'Sheeraz', 'PIAIC 132123'),\n",
       " ('10:41:27', 'PIAIC175139 naeem khan', 'PIAIC175139'),\n",
       " ('10:42:09', 'SafeerAhmad 139339', 'PIAIC-139339'),\n",
       " ('10:42:59', 'Fareeha', 'PIAIC142650'),\n",
       " ('10:49:12', 'Umer Ghaffar PIAIC184298', 'PIAIC184298'),\n",
       " ('10:55:48', '(PIAIC-189416) Muhammad Murtaza Khan', 'PIAIC189416'),\n",
       " ('11:10:27', 'PIAIC175139 naeem khan', 'PIAIC175139'),\n",
       " ('11:11:01', 'Homesaira mehmood', 'PIAIC-176439'),\n",
       " ('11:12:57', 'PIAIC183349 Muahhamd Waseem', 'PIAIC183349'),\n",
       " ('11:14:52', 'Ali Muawia', 'PIAIC 171658'),\n",
       " ('11:17:21', 'Zohaib Ahmed', 'PIAIC176190'),\n",
       " ('11:21:47', 'Umer Ghaffar PIAIC184298', 'PIAIC184298'),\n",
       " ('11:22:33', 'Kabeer Rajput', 'PIAIC-133488'),\n",
       " ('11:22:57', 'Muhammad Furqan(PIAIC183270)', 'PIAIC183270'),\n",
       " ('11:23:00', 'Irfan Ahmed - (PIAIC178547)', 'PIAIC178547'),\n",
       " ('11:23:03', 'Muhammad Furqan(PIAIC183270)', 'PIAIC183270'),\n",
       " ('11:23:17', 'Muhammad Furqan(PIAIC183270)', 'PIAIC183270'),\n",
       " ('11:23:17', 'Irtiza Khan [PIAIC 171375]', 'PIAIC171375'),\n",
       " ('11:23:22', 'Qadeer Ahmed - 163577', 'PIAIC163577'),\n",
       " ('11:23:30', 'Hammad Ahmad', 'PIAIC172695'),\n",
       " ('11:23:37', 'Mashal Zahra', 'PIAIC178751'),\n",
       " ('11:23:57', 'Fazal Abbas', 'PIAIC182763'),\n",
       " ('11:24:47', 'Umer Ghaffar PIAIC184298', 'PIAIC184298'),\n",
       " ('11:24:54', 'Victor PIAIC 177535', 'PIAIC177535'),\n",
       " ('11:25:05', 'Imaad ud din Motan', 'PIAIC91698'),\n",
       " ('11:25:07', 'sarimeffendi', 'PIAIC188720'),\n",
       " ('11:25:07', 'Ali Asar', 'PIAIC187258'),\n",
       " ('11:25:50', 'Dr.Bhagwan Das', 'PIAIC96879'),\n",
       " ('11:25:53', 'Muhammad Shahid-AIC005259', 'PIAIC005259'),\n",
       " ('11:25:55', 'Ali Muawia', 'PIAIC171658'),\n",
       " ('11:26:07', 'Saeed', 'PIAIC131885'),\n",
       " ('11:26:07', 'Zeenat Zakir: Piaic 133802', 'PIAIC133802'),\n",
       " ('11:26:44', 'Agha Ali PIAIC164763', 'PIAIC164763'),\n",
       " ('11:26:44', 'Noman Ali PIAIC 180111', 'PIAIC180111'),\n",
       " ('11:26:57', 'Usman Noor PIAIC-188401', 'PIAIC-188401'),\n",
       " ('11:27:01', 'Ali Raza 62922', 'PIAIC 62922'),\n",
       " ('11:28:08', 'Shoaib Ahmed Khan (PIAIC159833)', 'PIAIC159833'),\n",
       " ('11:29:10', 'Amir Rashid', 'PIAIC107890'),\n",
       " ('11:30:06', 'Irfan Ahmed', 'PIAIC172147'),\n",
       " ('11:30:10', 'cz 3', 'PIAIC125164'),\n",
       " ('11:31:39', 'HaiderAli-PIAIC179345', 'PIAIC179345'),\n",
       " ('11:32:17', 'Umer Ghaffar PIAIC184298', 'PIAIC184298'),\n",
       " ('11:33:34', 'Wajid khan', 'PIAIC181896'),\n",
       " ('11:33:52', 'Amna Farrukh', 'PIAIC149493'),\n",
       " ('11:34:25', 'Faisal Zohaib', 'PIAIC169528'),\n",
       " ('11:34:35', 'Salma Asif', 'PIAIC176945'),\n",
       " ('11:35:32', 'Khurshed Anwar-PIAIC-157450', 'PIAIC157450'),\n",
       " ('11:35:44', 'Amna Liaqat PIAIC 133452', 'PIAIC133452'),\n",
       " ('11:36:18', 'Nasrullah (PIAIC 180162)', 'PIAIC-180162'),\n",
       " ('11:36:34', 'vivo 1901', 'PIAIC74287'),\n",
       " ('11:36:52', 'Samina - PIAIC52499', 'PIAIC52499'),\n",
       " ('11:40:59', 'Syed Jawad [PIAIC185558]', 'PIAIC185558'),\n",
       " ('11:41:02', 'Taqwa Khaliq', 'PIAIC173701'),\n",
       " ('11:41:04', 'sarimeffendi', 'PIAIC188720'),\n",
       " ('11:41:06', 'Ahmad Mudassar PIAIC113830', 'PIAIC113830'),\n",
       " ('11:41:07', 'Junaid Ali Bhatti', 'PIAIC174125'),\n",
       " ('11:41:08', 'HuzaifaTahir PIAIC-60925', 'PIAIC60925'),\n",
       " ('11:41:10', 'Salman Nayyer', 'PIAIC180996'),\n",
       " ('11:41:11', 'Muhammad Furqan(PIAIC183270)', 'PIAIC183270'),\n",
       " ('11:41:11', 'Aisha Siddiqua', 'PIAIC181221'),\n",
       " ('11:41:12', 'vivo 1901', 'PIAIC74287'),\n",
       " ('11:41:12', 'Humera Naz', 'PIAIC173431'),\n",
       " ('11:41:13', 'Ali Azam-PIAIC66597', 'PIAIC66597'),\n",
       " ('11:41:13', 'Salma Asif', 'PIAIC176945'),\n",
       " ('11:41:15', '02. M Awais Mushtaq Sec A', 'PIAIC183887'),\n",
       " ('11:41:16', 'Irtiza Khan [PIAIC 171375]', 'PIAIC171375'),\n",
       " ('11:41:17', 'Kabeer Rajput', 'PIAIC133488'),\n",
       " ('11:41:17', 'Muhammad Farhan Ahsan PIAIC-168894', 'PIAIC168894'),\n",
       " ('11:41:18', 'Usman Noor PIAIC-188401', 'PIAIC188401'),\n",
       " ('11:41:19', 'Moattar Khanum (PIAIC170982)', 'PIAIC170982'),\n",
       " ('11:41:19', 'MUHAMMAD USMAN MANZOOR', 'PIAIC128778'),\n",
       " ('11:41:20', 'PIAIC188523', 'PIAIC188523'),\n",
       " ('11:41:20', 'M. ADNAN SAEED PIAIC174751', 'PIAIC174751'),\n",
       " ('11:41:20', 'Amir PIAIC128409', 'PIAIC128409'),\n",
       " ('11:41:21', 'Irfan Ahmed - (PIAIC178547)', 'PIAIC178547'),\n",
       " ('11:41:22', 'Ali Asar', 'PIAIC187258'),\n",
       " ('11:41:22', '(PIAIC-189416) Muhammad Murtaza Khan', 'PIAIC189416'),\n",
       " ('11:41:22', 'HaiderAli-PIAIC179345', 'PIAIC179345'),\n",
       " ('11:41:24', 'PIAIC 175167', 'PIAIC175167'),\n",
       " ('11:41:24', 'Zaki@PIAIC172541', 'PIAIC172541'),\n",
       " ('11:41:24', 'Muhammad Adrees', 'PIAIC74182'),\n",
       " ('11:41:27', 'PIAIC (188172) Ahmed', 'PIAIC188172'),\n",
       " ('11:41:28', 'Mashal Zahra', 'PIAIC178751'),\n",
       " ('11:41:28', 'Moattar Khanum (PIAIC170982)', 'PIAIC170982'),\n",
       " ('11:41:28', 'Yousaf-173795', 'PIAIC173795'),\n",
       " ('11:41:28', 'Dr.Bhagwan Das', 'PIAIC96879'),\n",
       " ('11:41:29', 'Amir Rashid', 'PIAIC107890'),\n",
       " ('11:41:29', 'Samina - PIAIC52499', 'PIAIC52499'),\n",
       " ('11:41:31', 'PIAIC183349 Muahhamd Waseem', 'PIAIC183349'),\n",
       " ('11:41:32', 'Cashif 143001', 'PIAIC-143001'),\n",
       " ('11:41:33', 'Wardah(PIAIC172641)', 'PIAIC172641'),\n",
       " ('11:41:35', 'Gulshan Ali', 'PIAIC176719'),\n",
       " ('11:41:36', '133544-Matee', 'PIAIC133544'),\n",
       " ('11:41:38', 'cz 3', 'PIAIC125164'),\n",
       " ('11:41:38', 'Sehrish Fatima-PIAIC', 'PIAIC-174229'),\n",
       " ('11:41:39', 'Qadeer Ahmed - 163577', 'PIAIC163577'),\n",
       " ('11:41:39', 'ASIF ALI (A.I)', 'PIAIC183730'),\n",
       " ('11:41:40', 'Majid Naru PIAIC-187644', 'PIAIC187644'),\n",
       " ('11:41:40', 'Khurshed Anwar-PIAIC-157450', 'PIAIC157450'),\n",
       " ('11:41:40', 'Samsung SM-A325F', 'PIAIC178248'),\n",
       " ('11:41:40', 'PIAIC95349 Ali', 'PIAIC95349'),\n",
       " ('11:41:42', 'Homesaira mehmood', 'PIAIC176439'),\n",
       " ('11:41:47', 'Shoaib Ahmed Khan (PIAIC159833)', 'PIAIC159833'),\n",
       " ('11:41:47', 'Mohsin Naseer PIAIC68513', 'PIAIC68513'),\n",
       " ('11:41:48', 'Syed Sajjad Hussain PIAIC152592', 'PIAIC152592'),\n",
       " ('11:41:51', 'Muhammad Hawaris', 'PIAIC188433'),\n",
       " ('11:41:57', 'Nasrullah (PIAIC 180162)', 'PIAIC180162'),\n",
       " ('11:41:58', 'Home', 'PIAIC172998'),\n",
       " ('11:41:58', 'Sabir Zafar', 'PIAIC182023'),\n",
       " ('11:41:58', 'PIAIC187118 Muhammad  Imran Wali', 'PIAIC187118'),\n",
       " ('11:42:00', 'Ali Raza 62922', 'PIAIC62922'),\n",
       " ('11:42:04', 'Maha Ilyas 2874', 'PIAIC177982'),\n",
       " ('11:42:04', 'Ayesha Qamar', 'PIAIC185674'),\n",
       " ('11:42:05', 'Umer Ghaffar PIAIC184298', 'PIAIC184298'),\n",
       " ('11:42:05', 'Sehrish Fatima-PIAIC', 'PIAIC174229'),\n",
       " ('11:42:05', 'Irfan Ahmed', 'PIAIC172147'),\n",
       " ('11:42:06', 'Saad PIAIC174416', 'PIAIC174416'),\n",
       " ('11:42:08', 'Agha Ali PIAIC164763', 'PIAIC164763'),\n",
       " ('11:42:09', 'Maaz-PIAIC182239', 'PIAIC182239'),\n",
       " ('11:42:11', 'Dr.Bhagwan Das', 'PIAIC96879'),\n",
       " ('11:42:12', 'Amna Farrukh', 'PIAIC149493'),\n",
       " ('11:42:17', 'Muhammad Saad', 'PIAIC172478'),\n",
       " ('11:42:17', 'Fareeha', 'PIAIC142650'),\n",
       " ('11:42:19', 'Neelum Javaid PIAIC172527', 'PIAIC172527'),\n",
       " ('11:42:21', 'ABDUL BASIT', 'PIAIC59115'),\n",
       " ('11:42:22', 'Usama Rehman', 'PIAIC171408'),\n",
       " ('11:42:23', 'Muhammad Mehroz', 'PIAIC131496'),\n",
       " ('11:42:23', 'Irfan Ahmed PIAIC183459', 'PIAIC183459'),\n",
       " ('11:42:23', 'Wajeeha Ayaz', 'PIAIC175646'),\n",
       " ('11:42:24', 'LENOVO', 'PIAIC151960'),\n",
       " ('11:42:25', 'PIAIC 132123', 'PIAIC 132123'),\n",
       " ('11:42:26', 'Hamza-PC', 'PIAIC55486'),\n",
       " ('11:42:27', 'sohaib PIAIC67260', 'PIAIC67260'),\n",
       " ('11:42:27', 'Syed Sajjad Hussain PIAIC152592', 'PIAIC152592'),\n",
       " ('11:42:30', 'Nabeel SHAHAB  (PIAIC185213)', 'PIAIC185213'),\n",
       " ('11:42:31', 'Muhammad Mehroz', 'PIAIC131496'),\n",
       " ('11:42:33', 'Muhammad Naveed PIAIC133985', 'PIAIC133985'),\n",
       " ('11:42:36', 'Muhammad Shahid-AIC005259', 'PIAIC005259'),\n",
       " ('11:42:40', 'Aisha Siddiqua', 'PIAIC181221'),\n",
       " ('11:42:44', 'Mohammad Javed', 'PIAIC185754'),\n",
       " ('11:42:45', 'Zeenat Zakir: Piaic 133802', 'PIAIC133802'),\n",
       " ('11:42:45', 'Asim sharif(PIAIC172797)', 'PIAIC172797'),\n",
       " ('11:42:48', 'Rehman', 'PIAIC173652'),\n",
       " ('11:42:57', 'Jawad Ahmed PIAIC96020', 'PIAIC96020'),\n",
       " ('11:42:59', 'SHEHZAD PIAIC180057', 'PIAIC180057'),\n",
       " ('11:43:01', 'LENOVO', 'PIAIC151960'),\n",
       " ('11:43:08', 'Abdul Qadar', 'PIAIC172941'),\n",
       " ('11:43:09', 'Noman Ali PIAIC 180111', 'PIAIC180111'),\n",
       " ('11:43:15', '185099 Murtaza', 'PIAIC185099'),\n",
       " ('11:43:15', 'Muhammad Athar PIAIC 174016', 'PIAIC174016'),\n",
       " ('11:43:24', 'Abdul Saboor Zaman PIAIC189261', 'PIAIC189261'),\n",
       " ('11:43:24', 'اسامه سلفى PIAIC91925', 'PIAIC91925'),\n",
       " ('11:43:39', 'SadafMansoor 84989', 'PIAIC94989'),\n",
       " ('11:43:46', 'Kainat PIAIC182352', 'PIAIC 182352'),\n",
       " ('11:43:47', 'Neelum Javaid PIAIC172527', 'PIAIC172527'),\n",
       " ('11:43:47', 'Zeeshan Latif', 'PIAIC171445'),\n",
       " ('11:43:54', 'Abdul Rehman Shafiq', 'PIAIC172525'),\n",
       " ('11:43:54', 'Ahmed Sohail', 'PIAIC186252')]"
      ]
     },
     "execution_count": 99,
     "metadata": {},
     "output_type": "execute_result"
    }
   ],
   "source": [
    "data = re.findall(r\"(\\d{2}:\\d{2}:\\d{2}) From (.+) To Everyone : (PIAIC-? ?\\d{5,6})\",chatData)\n",
    "data"
   ]
  },
  {
   "cell_type": "code",
   "execution_count": 100,
   "metadata": {},
   "outputs": [
    {
     "data": {
      "text/html": [
       "<div>\n",
       "<style scoped>\n",
       "    .dataframe tbody tr th:only-of-type {\n",
       "        vertical-align: middle;\n",
       "    }\n",
       "\n",
       "    .dataframe tbody tr th {\n",
       "        vertical-align: top;\n",
       "    }\n",
       "\n",
       "    .dataframe thead th {\n",
       "        text-align: right;\n",
       "    }\n",
       "</style>\n",
       "<table border=\"1\" class=\"dataframe\">\n",
       "  <thead>\n",
       "    <tr style=\"text-align: right;\">\n",
       "      <th></th>\n",
       "      <th>Time</th>\n",
       "      <th>Name</th>\n",
       "      <th>RollNumber</th>\n",
       "    </tr>\n",
       "  </thead>\n",
       "  <tbody>\n",
       "    <tr>\n",
       "      <th>0</th>\n",
       "      <td>09:05:06</td>\n",
       "      <td>Humera Naz</td>\n",
       "      <td>PIAIC 173431</td>\n",
       "    </tr>\n",
       "    <tr>\n",
       "      <th>1</th>\n",
       "      <td>09:05:34</td>\n",
       "      <td>Sabir Zafar</td>\n",
       "      <td>PIAIC182023</td>\n",
       "    </tr>\n",
       "    <tr>\n",
       "      <th>2</th>\n",
       "      <td>09:06:41</td>\n",
       "      <td>Salman Nayyer</td>\n",
       "      <td>PIAIC 180996</td>\n",
       "    </tr>\n",
       "    <tr>\n",
       "      <th>3</th>\n",
       "      <td>09:09:07</td>\n",
       "      <td>Syed Jawad [PIAIC185558]</td>\n",
       "      <td>PIAIC185558</td>\n",
       "    </tr>\n",
       "    <tr>\n",
       "      <th>4</th>\n",
       "      <td>09:09:12</td>\n",
       "      <td>Amir Rashid</td>\n",
       "      <td>PIAIC107890</td>\n",
       "    </tr>\n",
       "    <tr>\n",
       "      <th>...</th>\n",
       "      <td>...</td>\n",
       "      <td>...</td>\n",
       "      <td>...</td>\n",
       "    </tr>\n",
       "    <tr>\n",
       "      <th>223</th>\n",
       "      <td>11:43:46</td>\n",
       "      <td>Kainat PIAIC182352</td>\n",
       "      <td>PIAIC 182352</td>\n",
       "    </tr>\n",
       "    <tr>\n",
       "      <th>224</th>\n",
       "      <td>11:43:47</td>\n",
       "      <td>Neelum Javaid PIAIC172527</td>\n",
       "      <td>PIAIC172527</td>\n",
       "    </tr>\n",
       "    <tr>\n",
       "      <th>225</th>\n",
       "      <td>11:43:47</td>\n",
       "      <td>Zeeshan Latif</td>\n",
       "      <td>PIAIC171445</td>\n",
       "    </tr>\n",
       "    <tr>\n",
       "      <th>226</th>\n",
       "      <td>11:43:54</td>\n",
       "      <td>Abdul Rehman Shafiq</td>\n",
       "      <td>PIAIC172525</td>\n",
       "    </tr>\n",
       "    <tr>\n",
       "      <th>227</th>\n",
       "      <td>11:43:54</td>\n",
       "      <td>Ahmed Sohail</td>\n",
       "      <td>PIAIC186252</td>\n",
       "    </tr>\n",
       "  </tbody>\n",
       "</table>\n",
       "<p>228 rows × 3 columns</p>\n",
       "</div>"
      ],
      "text/plain": [
       "         Time                       Name    RollNumber\n",
       "0    09:05:06                 Humera Naz  PIAIC 173431\n",
       "1    09:05:34                Sabir Zafar   PIAIC182023\n",
       "2    09:06:41              Salman Nayyer  PIAIC 180996\n",
       "3    09:09:07   Syed Jawad [PIAIC185558]   PIAIC185558\n",
       "4    09:09:12                Amir Rashid   PIAIC107890\n",
       "..        ...                        ...           ...\n",
       "223  11:43:46         Kainat PIAIC182352  PIAIC 182352\n",
       "224  11:43:47  Neelum Javaid PIAIC172527   PIAIC172527\n",
       "225  11:43:47              Zeeshan Latif   PIAIC171445\n",
       "226  11:43:54        Abdul Rehman Shafiq   PIAIC172525\n",
       "227  11:43:54               Ahmed Sohail   PIAIC186252\n",
       "\n",
       "[228 rows x 3 columns]"
      ]
     },
     "execution_count": 100,
     "metadata": {},
     "output_type": "execute_result"
    }
   ],
   "source": [
    "tableData = pd.DataFrame(data,columns=[\"Time\",\"Name\",\"RollNumber\"])\n",
    "tableData"
   ]
  }
 ],
 "metadata": {
  "kernelspec": {
   "display_name": "py12",
   "language": "python",
   "name": "python3"
  },
  "language_info": {
   "codemirror_mode": {
    "name": "ipython",
    "version": 3
   },
   "file_extension": ".py",
   "mimetype": "text/x-python",
   "name": "python",
   "nbconvert_exporter": "python",
   "pygments_lexer": "ipython3",
   "version": "3.12.0"
  }
 },
 "nbformat": 4,
 "nbformat_minor": 2
}
