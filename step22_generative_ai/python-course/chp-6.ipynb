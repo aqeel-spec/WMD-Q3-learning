{
 "cells": [
  {
   "cell_type": "markdown",
   "metadata": {},
   "source": [
    "<p align=\"center\">\n",
    "  <b style=\"font-size: 32px\">6</b><br>\n",
    "  <b>D I C T I O N A R I E S</b>\n",
    "</p>\n"
   ]
  },
  {
   "cell_type": "code",
   "execution_count": 1,
   "metadata": {},
   "outputs": [
    {
     "name": "stdout",
     "output_type": "stream",
     "text": [
      "<class 'dict'>\n",
      "140633003162304\n",
      "{'color': 'green', 'points': 5}\n"
     ]
    }
   ],
   "source": [
    "# Example 01\n",
    "\n",
    "alien_0 : dict = { 'color' : 'green' , 'points': 5 }\n",
    "\n",
    "print(type(alien_0))\n",
    "print(id(alien_0))\n",
    "\n",
    "print(alien_0)\n"
   ]
  },
  {
   "cell_type": "code",
   "execution_count": 2,
   "metadata": {},
   "outputs": [
    {
     "name": "stdout",
     "output_type": "stream",
     "text": [
      "{'color': 'green', 'points': 5}\n",
      "{'color': 'green', 'points': 5, 'x-position': 0, 'y-position': 25}\n"
     ]
    }
   ],
   "source": [
    "# Example 01\n",
    "\n",
    "alien_0 : dict = { 'color' : 'green' , 'points': 5 }\n",
    "\n",
    "print(alien_0)\n",
    "\n",
    "alien_0['x-position'] = 0\n",
    "alien_0['y-position'] = 25\n",
    "\n",
    "print(alien_0)"
   ]
  },
  {
   "cell_type": "code",
   "execution_count": 3,
   "metadata": {},
   "outputs": [
    {
     "name": "stdout",
     "output_type": "stream",
     "text": [
      "{'color': 'green', 'points': 5}\n"
     ]
    }
   ],
   "source": [
    "alien_0 = {}\n",
    "\n",
    "alien_0['color'] = 'green'\n",
    "alien_0['points'] = 5\n",
    "\n",
    "print(alien_0)"
   ]
  },
  {
   "cell_type": "markdown",
   "metadata": {},
   "source": [
    "* Modifying Values in a Dictionary"
   ]
  },
  {
   "cell_type": "code",
   "execution_count": 4,
   "metadata": {},
   "outputs": [
    {
     "name": "stdout",
     "output_type": "stream",
     "text": [
      "The alien is green.\n",
      "The alien is yellow.\n"
     ]
    }
   ],
   "source": [
    "alien_0 = {'color' : 'green'}\n",
    "print(f\"The alien is {alien_0['color']}.\")\n",
    "\n",
    "alien_0['color'] = 'yellow'\n",
    "print(f\"The alien is {alien_0['color']}.\")"
   ]
  },
  {
   "cell_type": "markdown",
   "metadata": {},
   "source": [
    "* Removing Key-Value Pairs"
   ]
  },
  {
   "cell_type": "code",
   "execution_count": 5,
   "metadata": {},
   "outputs": [
    {
     "name": "stdout",
     "output_type": "stream",
     "text": [
      "{'color': 'green', 'points': 5}\n",
      "{'color': 'green'}\n"
     ]
    }
   ],
   "source": [
    "alien_0 : dict = { 'color' : 'green' , 'points' : 5 }\n",
    "print(alien_0)\n",
    "\n",
    "del alien_0['points']\n",
    "print(alien_0)"
   ]
  },
  {
   "cell_type": "markdown",
   "metadata": {},
   "source": [
    "<div style=\"display: flex; justify-content: center;\">\n",
    "  <p style=\"background-color: black;\">NOTE</p>\n",
    "  <p class=\"pl-2\">Be aware that the deleted key-value pair is removed permanently.</p>\n",
    "</div>\n"
   ]
  },
  {
   "cell_type": "code",
   "execution_count": 6,
   "metadata": {},
   "outputs": [
    {
     "name": "stdout",
     "output_type": "stream",
     "text": [
      "No point value assigned\n"
     ]
    }
   ],
   "source": [
    "alien_0 : dict = {'color' : 'green' , 'speed' : 'show'}\n",
    "\n",
    "point_value = alien_0.get('points','No point value assigned')\n",
    "\n",
    "print(point_value)"
   ]
  },
  {
   "cell_type": "code",
   "execution_count": 7,
   "metadata": {},
   "outputs": [
    {
     "name": "stdout",
     "output_type": "stream",
     "text": [
      "\n",
      " key : username\n",
      " value : efermi\n",
      "\n",
      " key : first\n",
      " value : enrico\n",
      "\n",
      " key : last\n",
      " value : fermi\n"
     ]
    }
   ],
   "source": [
    "user_0 = {\n",
    "'username': 'efermi',\n",
    "'first': 'enrico',\n",
    "'last': 'fermi',\n",
    "}\n",
    "\n",
    "for key, value in user_0.items():\n",
    "    print(f\"\\n key : {key}\")\n",
    "    print(f\" value : {value}\")\n"
   ]
  },
  {
   "cell_type": "code",
   "execution_count": 10,
   "metadata": {},
   "outputs": [
    {
     "name": "stdout",
     "output_type": "stream",
     "text": [
      "Jen's favourite languages are:\n",
      "\tPython\n",
      "\tRust\n",
      "Sarah's favourite languages are:\n",
      "\tC\n",
      "Edward's favourite languages are:\n",
      "\tRust\n",
      "\tGo\n",
      "Phil's favourite languages are:\n",
      "\tPython\n",
      "\tHaskell\n"
     ]
    }
   ],
   "source": [
    "favorite_languages : dict = {\n",
    "'jen': ['python', 'rust'],\n",
    "'sarah': ['c'],\n",
    "'edward': ['rust', 'go'],\n",
    "'phil': ['python', 'haskell'],\n",
    "}\n",
    "\n",
    "for name, languages in favorite_languages.items() : \n",
    "    print(f\"{name.title()}'s favourite languages are:\")\n",
    "    for lang in languages :\n",
    "        print(f\"\\t{lang.title()}\")\n"
   ]
  },
  {
   "cell_type": "code",
   "execution_count": 14,
   "metadata": {},
   "outputs": [
    {
     "name": "stdout",
     "output_type": "stream",
     "text": [
      "\n",
      "Username : aeinstein\n",
      "\tFull_name:  Albert Einstein \n",
      "\tLocation: Princeton\n",
      "\n",
      "Username : mcurie\n",
      "\tFull_name:  Marie Curie \n",
      "\tLocation: Paris\n"
     ]
    }
   ],
   "source": [
    "users : dict = {\n",
    "    'aeinstein': {\n",
    "        'first': 'albert',\n",
    "        'last': 'einstein',\n",
    "        'location': 'princeton',\n",
    "    },\n",
    "    'mcurie': {\n",
    "        'first': 'marie',\n",
    "        'last': 'curie',\n",
    "        'location': 'paris',\n",
    "    },\n",
    "}\n",
    "\n",
    "for username, user_info in users.items() : \n",
    "\n",
    "    print(f\"\\nUsername : {username}\")\n",
    "    full_name = f\" {user_info['first']} {user_info['last']} \"\n",
    "    location = user_info['location']\n",
    "\n",
    "    print(f\"\\tFull_name: {full_name.title()}\")\n",
    "    print(f\"\\tLocation: {location.title()}\")\n",
    "\n"
   ]
  }
 ],
 "metadata": {
  "kernelspec": {
   "display_name": "py12",
   "language": "python",
   "name": "python3"
  },
  "language_info": {
   "codemirror_mode": {
    "name": "ipython",
    "version": 3
   },
   "file_extension": ".py",
   "mimetype": "text/x-python",
   "name": "python",
   "nbconvert_exporter": "python",
   "pygments_lexer": "ipython3",
   "version": "3.12.0"
  }
 },
 "nbformat": 4,
 "nbformat_minor": 2
}
