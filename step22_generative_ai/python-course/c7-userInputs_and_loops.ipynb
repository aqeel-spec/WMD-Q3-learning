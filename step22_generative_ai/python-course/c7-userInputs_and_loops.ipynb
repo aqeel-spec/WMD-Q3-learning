{
 "cells": [
  {
   "cell_type": "markdown",
   "metadata": {},
   "source": [
    "<p align=\"center\">\n",
    "  <b style=\"font-size: 32px\">7</b><br>\n",
    "  <b>USER  I N P U T  </b>\n",
    "  <b>AND  W H I L E  LOOPS</b>\n",
    "</p>\n"
   ]
  },
  {
   "cell_type": "code",
   "execution_count": 2,
   "metadata": {},
   "outputs": [
    {
     "name": "stdout",
     "output_type": "stream",
     "text": [
      "Hi Aqeel , Welcome to your first input \n"
     ]
    }
   ],
   "source": [
    "message : str = input(\"Please enter your name\")\n",
    "\n",
    "print(f\"Hi {message} , Welcome to your first input \")"
   ]
  },
  {
   "cell_type": "code",
   "execution_count": 5,
   "metadata": {},
   "outputs": [
    {
     "name": "stdout",
     "output_type": "stream",
     "text": [
      "\n",
      "\t\tWelcome to student management system\n",
      "\n",
      "\tHi asdf!  , Welcome to your first input \n",
      "\n",
      "\tYour roll Number : 34\n",
      "\n",
      "\tYour batch Number : 345\n"
     ]
    }
   ],
   "source": [
    "# Example 01\n",
    "message : str = input(\"Please enter your name : \")\n",
    "roll_number : str = input(\"Roll Number : PIAIC-\")\n",
    "batch : str = input(\"Please enter your batch number : batch-\")\n",
    "\n",
    "print(\"\\n\\t\\tWelcome to student management system\")\n",
    "print(f\"\\n\\tHi {message}!  , Welcome to your first input \")\n",
    "print(f\"\\n\\tYour roll Number : {roll_number}\")\n",
    "print(f\"\\n\\tYour batch Number : {batch}\")"
   ]
  },
  {
   "cell_type": "code",
   "execution_count": 7,
   "metadata": {},
   "outputs": [
    {
     "name": "stdout",
     "output_type": "stream",
     "text": [
      "34\n",
      "34\n",
      "<class 'int'>\n"
     ]
    },
    {
     "ename": "TypeError",
     "evalue": "'>=' not supported between instances of 'str' and 'int'",
     "output_type": "error",
     "traceback": [
      "\u001b[0;31m---------------------------------------------------------------------------\u001b[0m",
      "\u001b[0;31mTypeError\u001b[0m                                 Traceback (most recent call last)",
      "\u001b[1;32m/home/shahzad/Documents/GitHub/WMD-Q3-learning/step22_generative_ai/python-course/c7-userInputs_and_loops.ipynb Cell 4\u001b[0m line \u001b[0;36m1\n\u001b[1;32m      <a href='vscode-notebook-cell:/home/shahzad/Documents/GitHub/WMD-Q3-learning/step22_generative_ai/python-course/c7-userInputs_and_loops.ipynb#W4sZmlsZQ%3D%3D?line=6'>7</a>\u001b[0m \u001b[39mprint\u001b[39m(modifyAe)\n\u001b[1;32m      <a href='vscode-notebook-cell:/home/shahzad/Documents/GitHub/WMD-Q3-learning/step22_generative_ai/python-course/c7-userInputs_and_loops.ipynb#W4sZmlsZQ%3D%3D?line=7'>8</a>\u001b[0m \u001b[39mprint\u001b[39m(\u001b[39mtype\u001b[39m(modifyAe))\n\u001b[0;32m---> <a href='vscode-notebook-cell:/home/shahzad/Documents/GitHub/WMD-Q3-learning/step22_generative_ai/python-course/c7-userInputs_and_loops.ipynb#W4sZmlsZQ%3D%3D?line=10'>11</a>\u001b[0m \u001b[39mprint\u001b[39m(age \u001b[39m>\u001b[39;49m\u001b[39m=\u001b[39;49m \u001b[39m18\u001b[39;49m)\n",
      "\u001b[0;31mTypeError\u001b[0m: '>=' not supported between instances of 'str' and 'int'"
     ]
    }
   ],
   "source": [
    "age : str = input(\"How old are you? \")\n",
    "\n",
    "modifyAe : int = int(age)\n",
    "\n",
    "print(age)\n",
    "\n",
    "print(modifyAe)\n",
    "print(type(modifyAe))\n",
    "\n",
    "# error because input value is string and cannot compare number on \n",
    "# string values , U have to convert it to number for operations\n",
    "print(age >= 18)\n",
    "\n"
   ]
  },
  {
   "cell_type": "markdown",
   "metadata": {},
   "source": [
    "* Enter number in below field weather it's even or add"
   ]
  },
  {
   "cell_type": "code",
   "execution_count": 1,
   "metadata": {},
   "outputs": [
    {
     "name": "stdout",
     "output_type": "stream",
     "text": [
      "4 is even.\n"
     ]
    }
   ],
   "source": [
    "\n",
    "number_str = input(\"Enter a number, and I'll tell you if it is even or odd: \")\n",
    "number = int(number_str)\n",
    "\n",
    "if number % 2 == 0:\n",
    "    print(f\"{number} is even.\")\n",
    "else:\n",
    "    print(f\"{number} is odd.\")"
   ]
  },
  {
   "cell_type": "markdown",
   "metadata": {},
   "source": [
    "#### Introducing while Loops"
   ]
  },
  {
   "cell_type": "code",
   "execution_count": 3,
   "metadata": {},
   "outputs": [
    {
     "name": "stdout",
     "output_type": "stream",
     "text": [
      "1\n",
      "2\n",
      "3\n",
      "4\n",
      "5\n"
     ]
    }
   ],
   "source": [
    "curent_num = 1\n",
    "\n",
    "while curent_num <= 5:\n",
    "    print(curent_num)\n",
    "    curent_num += 1"
   ]
  },
  {
   "cell_type": "markdown",
   "metadata": {},
   "source": [
    "#### Letting the User Choose When to Quit"
   ]
  },
  {
   "cell_type": "code",
   "execution_count": 5,
   "metadata": {},
   "outputs": [
    {
     "name": "stdout",
     "output_type": "stream",
     "text": [
      "hi\n",
      "quit\n"
     ]
    }
   ],
   "source": [
    "prompt = \"\\nTell me something, and I will repeat it back to you:\"\n",
    "prompt += \"\\n Enter 'quit' to end the program\"\n",
    "\n",
    "message = \"\"\n",
    "\n",
    "while message != 'quit':\n",
    "    message = input(prompt)\n",
    "    print(message)"
   ]
  },
  {
   "cell_type": "code",
   "execution_count": 6,
   "metadata": {},
   "outputs": [
    {
     "name": "stdout",
     "output_type": "stream",
     "text": [
      "hi\n"
     ]
    }
   ],
   "source": [
    "prompt = \"\\nTell me something, and I will repeat it back to you:\"\n",
    "prompt += \"\\nEnter 'quit' to end the program. \"\n",
    "message = \"\"\n",
    "while message != 'quit':\n",
    "    message = input(prompt)\n",
    "    if message != 'quit':\n",
    "        print(message)"
   ]
  },
  {
   "cell_type": "code",
   "execution_count": 11,
   "metadata": {},
   "outputs": [
    {
     "name": "stdout",
     "output_type": "stream",
     "text": [
      "afdasdf\n",
      "adf\n",
      "asdf\n",
      "asdf\n",
      "asdf\n"
     ]
    }
   ],
   "source": [
    "prompt = \"\\nTell me something, and I will repeat it back to you:\"\n",
    "prompt += \"\\nEnter 'quit' to end the program. \"\n",
    "\n",
    "active = True\n",
    "\n",
    "while active:\n",
    "    message = input(prompt)\n",
    "\n",
    "    if message == 'quit':\n",
    "        active = False\n",
    "    else:\n",
    "        print(message)"
   ]
  },
  {
   "cell_type": "code",
   "execution_count": 12,
   "metadata": {},
   "outputs": [
    {
     "name": "stdout",
     "output_type": "stream",
     "text": [
      "I'd love to go to New York!\n",
      "I'd love to go to Sans Fransisco!\n",
      "I'd love to go to Lahore!\n"
     ]
    }
   ],
   "source": [
    "prompt = \"\\nPlease enter the name of a city you have visited:\"\n",
    "prompt += \"\\n(Enter 'quit' when you are finished.) \"\n",
    "\n",
    "while True:\n",
    "    city = input(prompt)\n",
    "    if city == 'quit':\n",
    "       break\n",
    "    else:\n",
    "        print(f\"I'd love to go to {city.title()}!\")"
   ]
  },
  {
   "cell_type": "code",
   "execution_count": 14,
   "metadata": {},
   "outputs": [
    {
     "name": "stdout",
     "output_type": "stream",
     "text": [
      "1\n",
      "3\n",
      "5\n",
      "7\n",
      "9\n"
     ]
    }
   ],
   "source": [
    "current_number : int = 0\n",
    "\n",
    "while current_number < 10 : \n",
    "\n",
    "    current_number += 1\n",
    "    if current_number % 2 == 0:\n",
    "        continue\n",
    "    print(current_number)"
   ]
  },
  {
   "cell_type": "markdown",
   "metadata": {},
   "source": [
    "#### Avoiding Infinite Loops"
   ]
  },
  {
   "cell_type": "code",
   "execution_count": 15,
   "metadata": {},
   "outputs": [
    {
     "name": "stdout",
     "output_type": "stream",
     "text": [
      "1\n",
      "2\n",
      "3\n",
      "4\n",
      "5\n"
     ]
    }
   ],
   "source": [
    "x = 1\n",
    "\n",
    "while x <= 5:\n",
    "    print(x)\n",
    "    x += 1"
   ]
  },
  {
   "cell_type": "code",
   "execution_count": null,
   "metadata": {},
   "outputs": [],
   "source": [
    "# This loop runs forever!\n",
    "x : int = 1\n",
    "\n",
    "while x <= 5:\n",
    "    print(x)"
   ]
  },
  {
   "cell_type": "code",
   "execution_count": 17,
   "metadata": {},
   "outputs": [
    {
     "name": "stdout",
     "output_type": "stream",
     "text": [
      "\n",
      "--- Poll Results ---\n",
      "Aqeel would like to climb K2.\n",
      "no would like to climb no.\n"
     ]
    }
   ],
   "source": [
    "# (((( Example 04 ))))\n",
    "\n",
    "responses : dict = {}\n",
    "# Set a flag to indicate that polling is active.\n",
    "polling_active : bool = True\n",
    "#User Input and while Loops\n",
    "while polling_active:\n",
    "    # Prompt for the person's name and response.\n",
    "    name = input(\"\\nWhat is your name? \")\n",
    "    response = input(\"Which mountain would you like to climb someday? \")\n",
    "    # Store the response in the dictionary.\n",
    "    responses[name] = response\n",
    "    # Find out if anyone else is going to take the poll.\n",
    "    repeat = input(\"Would you like to let another person respond? (yes/ no) \")\n",
    "    if repeat == 'no':\n",
    "        polling_active = False\n",
    "    # Polling is complete. Show the results.\n",
    "print(\"\\n--- Poll Results ---\")\n",
    "for name, response in responses.items():\n",
    "    print(f\"{name} would like to climb {response}.\")"
   ]
  },
  {
   "cell_type": "code",
   "execution_count": 2,
   "metadata": {},
   "outputs": [
    {
     "name": "stdout",
     "output_type": "stream",
     "text": [
      "Aqeel Shahzad\n",
      "<class 'str'>\n",
      "['Aqeel Shahzad', 'Sir Zia Khan']\n",
      "2\n"
     ]
    }
   ],
   "source": [
    "name = \"Aqeel Shahzad\"\n",
    "names = [name,\"Sir Zia Khan\"]\n",
    "\n",
    "print(name)\n",
    "print(type(name))\n",
    "\n",
    "ls : list[str] = [i for i in dir(names) if \"_\" not in i]\n",
    "print(ls)\n",
    "print(len(ls))"
   ]
  }
 ],
 "metadata": {
  "kernelspec": {
   "display_name": "py12",
   "language": "python",
   "name": "python3"
  },
  "language_info": {
   "codemirror_mode": {
    "name": "ipython",
    "version": 3
   },
   "file_extension": ".py",
   "mimetype": "text/x-python",
   "name": "python",
   "nbconvert_exporter": "python",
   "pygments_lexer": "ipython3",
   "version": "3.12.0"
  }
 },
 "nbformat": 4,
 "nbformat_minor": 2
}
